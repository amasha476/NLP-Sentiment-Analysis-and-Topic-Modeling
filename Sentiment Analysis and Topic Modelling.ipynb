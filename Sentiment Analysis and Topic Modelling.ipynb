{
 "cells": [
  {
   "cell_type": "markdown",
   "metadata": {
    "id": "Eql8BBP8s2Vh"
   },
   "source": [
    "<a id = \"cell_exploration\"></a>\n",
    "### 1. Data Exploration\n"
   ]
  },
  {
   "cell_type": "markdown",
   "metadata": {
    "id": "YriRRSD5Fg4A"
   },
   "source": [
    "Required Libraries for A1 have been imported to start"
   ]
  },
  {
   "cell_type": "code",
   "execution_count": 1,
   "metadata": {
    "colab": {
     "base_uri": "https://localhost:8080/"
    },
    "id": "u2Oqj0Gos2Vi",
    "outputId": "1e6f3d1a-4540-4bbd-a6d9-87400f5ced93"
   },
   "outputs": [
    {
     "name": "stderr",
     "output_type": "stream",
     "text": [
      "[nltk_data] Downloading package stopwords to\n",
      "[nltk_data]     /Users/thilina/nltk_data...\n",
      "[nltk_data]   Package stopwords is already up-to-date!\n",
      "[nltk_data] Downloading package vader_lexicon to\n",
      "[nltk_data]     /Users/thilina/nltk_data...\n",
      "[nltk_data]   Package vader_lexicon is already up-to-date!\n"
     ]
    }
   ],
   "source": [
    "import pandas as pd\n",
    "import numpy as np\n",
    "import re\n",
    "import matplotlib.pyplot as plt\n",
    "import seaborn as sns\n",
    "from matplotlib import pyplot\n",
    "from wordcloud import WordCloud\n",
    "import math\n",
    "\n",
    "from nltk.stem import PorterStemmer\n",
    "from nltk.corpus import stopwords\n",
    "from nltk.sentiment.vader import SentimentIntensityAnalyzer\n",
    "import nltk\n",
    "from nltk import pos_tag, word_tokenize\n",
    "from nltk.stem import WordNetLemmatizer\n",
    "from sklearn.feature_extraction.text import TfidfVectorizer\n",
    "nltk.download('stopwords')\n",
    "nltk.download('vader_lexicon')\n",
    "\n",
    "\n",
    "from sklearn.feature_extraction.text import CountVectorizer\n",
    "from nltk.tokenize import RegexpTokenizer\n",
    "from sklearn.naive_bayes import MultinomialNB\n",
    "from sklearn.ensemble import RandomForestClassifier\n",
    "from sklearn.metrics import accuracy_score\n",
    "from sklearn import metrics\n",
    "from sklearn.model_selection import train_test_split\n",
    "from sklearn.metrics import confusion_matrix\n",
    "from sklearn.metrics import classification_report\n",
    "\n",
    "from sklearn.decomposition import LatentDirichletAllocation as LDA\n",
    "import gensim.corpora as corpora\n",
    "import gensim\n",
    "from gensim.models.ldamodel import LdaModel\n",
    "from pprint import pprint#\n",
    "from gensim.models import CoherenceModel"
   ]
  },
  {
   "cell_type": "code",
   "execution_count": 2,
   "metadata": {
    "colab": {
     "base_uri": "https://localhost:8080/",
     "height": 973
    },
    "id": "yYh-1tGPIkbE",
    "outputId": "c2044191-8676-4730-cd1f-070e78f5c1b7"
   },
   "outputs": [
    {
     "data": {
      "text/html": [
       "<div>\n",
       "<style scoped>\n",
       "    .dataframe tbody tr th:only-of-type {\n",
       "        vertical-align: middle;\n",
       "    }\n",
       "\n",
       "    .dataframe tbody tr th {\n",
       "        vertical-align: top;\n",
       "    }\n",
       "\n",
       "    .dataframe thead th {\n",
       "        text-align: right;\n",
       "    }\n",
       "</style>\n",
       "<table border=\"1\" class=\"dataframe\">\n",
       "  <thead>\n",
       "    <tr style=\"text-align: right;\">\n",
       "      <th></th>\n",
       "      <th>tweet_id</th>\n",
       "      <th>airline_sentiment</th>\n",
       "      <th>airline_sentiment_confidence</th>\n",
       "      <th>negativereason</th>\n",
       "      <th>negativereason_confidence</th>\n",
       "      <th>airline</th>\n",
       "      <th>airline_sentiment_gold</th>\n",
       "      <th>name</th>\n",
       "      <th>negativereason_gold</th>\n",
       "      <th>retweet_count</th>\n",
       "      <th>text</th>\n",
       "      <th>tweet_coord</th>\n",
       "      <th>tweet_created</th>\n",
       "      <th>tweet_location</th>\n",
       "      <th>user_timezone</th>\n",
       "    </tr>\n",
       "  </thead>\n",
       "  <tbody>\n",
       "    <tr>\n",
       "      <th>0</th>\n",
       "      <td>570306133677760513</td>\n",
       "      <td>neutral</td>\n",
       "      <td>1.0000</td>\n",
       "      <td>NaN</td>\n",
       "      <td>NaN</td>\n",
       "      <td>Virgin America</td>\n",
       "      <td>NaN</td>\n",
       "      <td>cairdin</td>\n",
       "      <td>NaN</td>\n",
       "      <td>0</td>\n",
       "      <td>@VirginAmerica What @dhepburn said.</td>\n",
       "      <td>NaN</td>\n",
       "      <td>2015-02-24 11:35:52 -0800</td>\n",
       "      <td>NaN</td>\n",
       "      <td>Eastern Time (US &amp; Canada)</td>\n",
       "    </tr>\n",
       "    <tr>\n",
       "      <th>1</th>\n",
       "      <td>570301130888122368</td>\n",
       "      <td>positive</td>\n",
       "      <td>0.3486</td>\n",
       "      <td>NaN</td>\n",
       "      <td>0.0000</td>\n",
       "      <td>Virgin America</td>\n",
       "      <td>NaN</td>\n",
       "      <td>jnardino</td>\n",
       "      <td>NaN</td>\n",
       "      <td>0</td>\n",
       "      <td>@VirginAmerica plus you've added commercials t...</td>\n",
       "      <td>NaN</td>\n",
       "      <td>2015-02-24 11:15:59 -0800</td>\n",
       "      <td>NaN</td>\n",
       "      <td>Pacific Time (US &amp; Canada)</td>\n",
       "    </tr>\n",
       "    <tr>\n",
       "      <th>2</th>\n",
       "      <td>570301083672813571</td>\n",
       "      <td>neutral</td>\n",
       "      <td>0.6837</td>\n",
       "      <td>NaN</td>\n",
       "      <td>NaN</td>\n",
       "      <td>Virgin America</td>\n",
       "      <td>NaN</td>\n",
       "      <td>yvonnalynn</td>\n",
       "      <td>NaN</td>\n",
       "      <td>0</td>\n",
       "      <td>@VirginAmerica I didn't today... Must mean I n...</td>\n",
       "      <td>NaN</td>\n",
       "      <td>2015-02-24 11:15:48 -0800</td>\n",
       "      <td>Lets Play</td>\n",
       "      <td>Central Time (US &amp; Canada)</td>\n",
       "    </tr>\n",
       "    <tr>\n",
       "      <th>3</th>\n",
       "      <td>570301031407624196</td>\n",
       "      <td>negative</td>\n",
       "      <td>1.0000</td>\n",
       "      <td>Bad Flight</td>\n",
       "      <td>0.7033</td>\n",
       "      <td>Virgin America</td>\n",
       "      <td>NaN</td>\n",
       "      <td>jnardino</td>\n",
       "      <td>NaN</td>\n",
       "      <td>0</td>\n",
       "      <td>@VirginAmerica it's really aggressive to blast...</td>\n",
       "      <td>NaN</td>\n",
       "      <td>2015-02-24 11:15:36 -0800</td>\n",
       "      <td>NaN</td>\n",
       "      <td>Pacific Time (US &amp; Canada)</td>\n",
       "    </tr>\n",
       "    <tr>\n",
       "      <th>4</th>\n",
       "      <td>570300817074462722</td>\n",
       "      <td>negative</td>\n",
       "      <td>1.0000</td>\n",
       "      <td>Can't Tell</td>\n",
       "      <td>1.0000</td>\n",
       "      <td>Virgin America</td>\n",
       "      <td>NaN</td>\n",
       "      <td>jnardino</td>\n",
       "      <td>NaN</td>\n",
       "      <td>0</td>\n",
       "      <td>@VirginAmerica and it's a really big bad thing...</td>\n",
       "      <td>NaN</td>\n",
       "      <td>2015-02-24 11:14:45 -0800</td>\n",
       "      <td>NaN</td>\n",
       "      <td>Pacific Time (US &amp; Canada)</td>\n",
       "    </tr>\n",
       "    <tr>\n",
       "      <th>...</th>\n",
       "      <td>...</td>\n",
       "      <td>...</td>\n",
       "      <td>...</td>\n",
       "      <td>...</td>\n",
       "      <td>...</td>\n",
       "      <td>...</td>\n",
       "      <td>...</td>\n",
       "      <td>...</td>\n",
       "      <td>...</td>\n",
       "      <td>...</td>\n",
       "      <td>...</td>\n",
       "      <td>...</td>\n",
       "      <td>...</td>\n",
       "      <td>...</td>\n",
       "      <td>...</td>\n",
       "    </tr>\n",
       "    <tr>\n",
       "      <th>14635</th>\n",
       "      <td>569587686496825344</td>\n",
       "      <td>positive</td>\n",
       "      <td>0.3487</td>\n",
       "      <td>NaN</td>\n",
       "      <td>0.0000</td>\n",
       "      <td>American</td>\n",
       "      <td>NaN</td>\n",
       "      <td>KristenReenders</td>\n",
       "      <td>NaN</td>\n",
       "      <td>0</td>\n",
       "      <td>@AmericanAir thank you we got on a different f...</td>\n",
       "      <td>NaN</td>\n",
       "      <td>2015-02-22 12:01:01 -0800</td>\n",
       "      <td>NaN</td>\n",
       "      <td>NaN</td>\n",
       "    </tr>\n",
       "    <tr>\n",
       "      <th>14636</th>\n",
       "      <td>569587371693355008</td>\n",
       "      <td>negative</td>\n",
       "      <td>1.0000</td>\n",
       "      <td>Customer Service Issue</td>\n",
       "      <td>1.0000</td>\n",
       "      <td>American</td>\n",
       "      <td>NaN</td>\n",
       "      <td>itsropes</td>\n",
       "      <td>NaN</td>\n",
       "      <td>0</td>\n",
       "      <td>@AmericanAir leaving over 20 minutes Late Flig...</td>\n",
       "      <td>NaN</td>\n",
       "      <td>2015-02-22 11:59:46 -0800</td>\n",
       "      <td>Texas</td>\n",
       "      <td>NaN</td>\n",
       "    </tr>\n",
       "    <tr>\n",
       "      <th>14637</th>\n",
       "      <td>569587242672398336</td>\n",
       "      <td>neutral</td>\n",
       "      <td>1.0000</td>\n",
       "      <td>NaN</td>\n",
       "      <td>NaN</td>\n",
       "      <td>American</td>\n",
       "      <td>NaN</td>\n",
       "      <td>sanyabun</td>\n",
       "      <td>NaN</td>\n",
       "      <td>0</td>\n",
       "      <td>@AmericanAir Please bring American Airlines to...</td>\n",
       "      <td>NaN</td>\n",
       "      <td>2015-02-22 11:59:15 -0800</td>\n",
       "      <td>Nigeria,lagos</td>\n",
       "      <td>NaN</td>\n",
       "    </tr>\n",
       "    <tr>\n",
       "      <th>14638</th>\n",
       "      <td>569587188687634433</td>\n",
       "      <td>negative</td>\n",
       "      <td>1.0000</td>\n",
       "      <td>Customer Service Issue</td>\n",
       "      <td>0.6659</td>\n",
       "      <td>American</td>\n",
       "      <td>NaN</td>\n",
       "      <td>SraJackson</td>\n",
       "      <td>NaN</td>\n",
       "      <td>0</td>\n",
       "      <td>@AmericanAir you have my money, you change my ...</td>\n",
       "      <td>NaN</td>\n",
       "      <td>2015-02-22 11:59:02 -0800</td>\n",
       "      <td>New Jersey</td>\n",
       "      <td>Eastern Time (US &amp; Canada)</td>\n",
       "    </tr>\n",
       "    <tr>\n",
       "      <th>14639</th>\n",
       "      <td>569587140490866689</td>\n",
       "      <td>neutral</td>\n",
       "      <td>0.6771</td>\n",
       "      <td>NaN</td>\n",
       "      <td>0.0000</td>\n",
       "      <td>American</td>\n",
       "      <td>NaN</td>\n",
       "      <td>daviddtwu</td>\n",
       "      <td>NaN</td>\n",
       "      <td>0</td>\n",
       "      <td>@AmericanAir we have 8 ppl so we need 2 know h...</td>\n",
       "      <td>NaN</td>\n",
       "      <td>2015-02-22 11:58:51 -0800</td>\n",
       "      <td>dallas, TX</td>\n",
       "      <td>NaN</td>\n",
       "    </tr>\n",
       "  </tbody>\n",
       "</table>\n",
       "<p>14640 rows × 15 columns</p>\n",
       "</div>"
      ],
      "text/plain": [
       "                 tweet_id airline_sentiment  airline_sentiment_confidence  \\\n",
       "0      570306133677760513           neutral                        1.0000   \n",
       "1      570301130888122368          positive                        0.3486   \n",
       "2      570301083672813571           neutral                        0.6837   \n",
       "3      570301031407624196          negative                        1.0000   \n",
       "4      570300817074462722          negative                        1.0000   \n",
       "...                   ...               ...                           ...   \n",
       "14635  569587686496825344          positive                        0.3487   \n",
       "14636  569587371693355008          negative                        1.0000   \n",
       "14637  569587242672398336           neutral                        1.0000   \n",
       "14638  569587188687634433          negative                        1.0000   \n",
       "14639  569587140490866689           neutral                        0.6771   \n",
       "\n",
       "               negativereason  negativereason_confidence         airline  \\\n",
       "0                         NaN                        NaN  Virgin America   \n",
       "1                         NaN                     0.0000  Virgin America   \n",
       "2                         NaN                        NaN  Virgin America   \n",
       "3                  Bad Flight                     0.7033  Virgin America   \n",
       "4                  Can't Tell                     1.0000  Virgin America   \n",
       "...                       ...                        ...             ...   \n",
       "14635                     NaN                     0.0000        American   \n",
       "14636  Customer Service Issue                     1.0000        American   \n",
       "14637                     NaN                        NaN        American   \n",
       "14638  Customer Service Issue                     0.6659        American   \n",
       "14639                     NaN                     0.0000        American   \n",
       "\n",
       "      airline_sentiment_gold             name negativereason_gold  \\\n",
       "0                        NaN          cairdin                 NaN   \n",
       "1                        NaN         jnardino                 NaN   \n",
       "2                        NaN       yvonnalynn                 NaN   \n",
       "3                        NaN         jnardino                 NaN   \n",
       "4                        NaN         jnardino                 NaN   \n",
       "...                      ...              ...                 ...   \n",
       "14635                    NaN  KristenReenders                 NaN   \n",
       "14636                    NaN         itsropes                 NaN   \n",
       "14637                    NaN         sanyabun                 NaN   \n",
       "14638                    NaN       SraJackson                 NaN   \n",
       "14639                    NaN        daviddtwu                 NaN   \n",
       "\n",
       "       retweet_count                                               text  \\\n",
       "0                  0                @VirginAmerica What @dhepburn said.   \n",
       "1                  0  @VirginAmerica plus you've added commercials t...   \n",
       "2                  0  @VirginAmerica I didn't today... Must mean I n...   \n",
       "3                  0  @VirginAmerica it's really aggressive to blast...   \n",
       "4                  0  @VirginAmerica and it's a really big bad thing...   \n",
       "...              ...                                                ...   \n",
       "14635              0  @AmericanAir thank you we got on a different f...   \n",
       "14636              0  @AmericanAir leaving over 20 minutes Late Flig...   \n",
       "14637              0  @AmericanAir Please bring American Airlines to...   \n",
       "14638              0  @AmericanAir you have my money, you change my ...   \n",
       "14639              0  @AmericanAir we have 8 ppl so we need 2 know h...   \n",
       "\n",
       "      tweet_coord              tweet_created tweet_location  \\\n",
       "0             NaN  2015-02-24 11:35:52 -0800            NaN   \n",
       "1             NaN  2015-02-24 11:15:59 -0800            NaN   \n",
       "2             NaN  2015-02-24 11:15:48 -0800      Lets Play   \n",
       "3             NaN  2015-02-24 11:15:36 -0800            NaN   \n",
       "4             NaN  2015-02-24 11:14:45 -0800            NaN   \n",
       "...           ...                        ...            ...   \n",
       "14635         NaN  2015-02-22 12:01:01 -0800            NaN   \n",
       "14636         NaN  2015-02-22 11:59:46 -0800          Texas   \n",
       "14637         NaN  2015-02-22 11:59:15 -0800  Nigeria,lagos   \n",
       "14638         NaN  2015-02-22 11:59:02 -0800     New Jersey   \n",
       "14639         NaN  2015-02-22 11:58:51 -0800     dallas, TX   \n",
       "\n",
       "                    user_timezone  \n",
       "0      Eastern Time (US & Canada)  \n",
       "1      Pacific Time (US & Canada)  \n",
       "2      Central Time (US & Canada)  \n",
       "3      Pacific Time (US & Canada)  \n",
       "4      Pacific Time (US & Canada)  \n",
       "...                           ...  \n",
       "14635                         NaN  \n",
       "14636                         NaN  \n",
       "14637                         NaN  \n",
       "14638  Eastern Time (US & Canada)  \n",
       "14639                         NaN  \n",
       "\n",
       "[14640 rows x 15 columns]"
      ]
     },
     "execution_count": 2,
     "metadata": {},
     "output_type": "execute_result"
    }
   ],
   "source": [
    "df = pd.read_csv(\"A1 Data Set.csv\") # Data source - Kaggle - Twitter US Airline Sentiment\n",
    "df"
   ]
  },
  {
   "cell_type": "code",
   "execution_count": 3,
   "metadata": {
    "colab": {
     "base_uri": "https://localhost:8080/"
    },
    "id": "auS3TjKTJHEK",
    "outputId": "62ea55a8-5f0e-41a8-d315-4b8dee693388"
   },
   "outputs": [
    {
     "data": {
      "text/plain": [
       "(14640, 15)"
      ]
     },
     "execution_count": 3,
     "metadata": {},
     "output_type": "execute_result"
    }
   ],
   "source": [
    "df.shape"
   ]
  },
  {
   "cell_type": "markdown",
   "metadata": {
    "id": "CsoPNXtDrPkF"
   },
   "source": [
    "Prior to deeper analysis, it is necessary to understand and clean the dataset as required"
   ]
  },
  {
   "cell_type": "markdown",
   "metadata": {
    "id": "ZgVQWEFBJMDY"
   },
   "source": [
    "Checking for any missing values"
   ]
  },
  {
   "cell_type": "code",
   "execution_count": 4,
   "metadata": {
    "colab": {
     "base_uri": "https://localhost:8080/"
    },
    "id": "fign1c49JOj7",
    "outputId": "69687629-d1ba-462e-b41e-8176ae4cbe41"
   },
   "outputs": [
    {
     "data": {
      "text/plain": [
       "tweet_id                            0\n",
       "airline_sentiment                   0\n",
       "airline_sentiment_confidence        0\n",
       "negativereason                   5462\n",
       "negativereason_confidence        4118\n",
       "airline                             0\n",
       "airline_sentiment_gold          14600\n",
       "name                                0\n",
       "negativereason_gold             14608\n",
       "retweet_count                       0\n",
       "text                                0\n",
       "tweet_coord                     13621\n",
       "tweet_created                       0\n",
       "tweet_location                   4733\n",
       "user_timezone                    4820\n",
       "dtype: int64"
      ]
     },
     "execution_count": 4,
     "metadata": {},
     "output_type": "execute_result"
    }
   ],
   "source": [
    "df.isna().sum()"
   ]
  },
  {
   "cell_type": "markdown",
   "metadata": {
    "id": "uFfMUFLAJWNk"
   },
   "source": [
    "*   There are some missing values visible in the data frame\n",
    "\n"
   ]
  },
  {
   "cell_type": "code",
   "execution_count": 5,
   "metadata": {
    "colab": {
     "base_uri": "https://localhost:8080/"
    },
    "id": "kK66m7SIJe2c",
    "outputId": "3ebaec2a-bb26-40e2-b703-e6ee82f19439"
   },
   "outputs": [
    {
     "data": {
      "text/plain": [
       "tweet_id                          int64\n",
       "airline_sentiment                object\n",
       "airline_sentiment_confidence    float64\n",
       "negativereason                   object\n",
       "negativereason_confidence       float64\n",
       "airline                          object\n",
       "airline_sentiment_gold           object\n",
       "name                             object\n",
       "negativereason_gold              object\n",
       "retweet_count                     int64\n",
       "text                             object\n",
       "tweet_coord                      object\n",
       "tweet_created                    object\n",
       "tweet_location                   object\n",
       "user_timezone                    object\n",
       "dtype: object"
      ]
     },
     "execution_count": 5,
     "metadata": {},
     "output_type": "execute_result"
    }
   ],
   "source": [
    "df.dtypes"
   ]
  },
  {
   "cell_type": "markdown",
   "metadata": {
    "id": "DkyKTLEcJk0Z"
   },
   "source": [
    "Next, any duplicates have been looked into"
   ]
  },
  {
   "cell_type": "code",
   "execution_count": 6,
   "metadata": {
    "colab": {
     "base_uri": "https://localhost:8080/",
     "height": 1000
    },
    "id": "cTaWqcOJJqM1",
    "outputId": "f4587186-533f-4059-8b38-a6e5e5309c37"
   },
   "outputs": [
    {
     "data": {
      "text/html": [
       "<div>\n",
       "<style scoped>\n",
       "    .dataframe tbody tr th:only-of-type {\n",
       "        vertical-align: middle;\n",
       "    }\n",
       "\n",
       "    .dataframe tbody tr th {\n",
       "        vertical-align: top;\n",
       "    }\n",
       "\n",
       "    .dataframe thead th {\n",
       "        text-align: right;\n",
       "    }\n",
       "</style>\n",
       "<table border=\"1\" class=\"dataframe\">\n",
       "  <thead>\n",
       "    <tr style=\"text-align: right;\">\n",
       "      <th></th>\n",
       "      <th>tweet_id</th>\n",
       "      <th>airline_sentiment</th>\n",
       "      <th>airline_sentiment_confidence</th>\n",
       "      <th>negativereason</th>\n",
       "      <th>negativereason_confidence</th>\n",
       "      <th>airline</th>\n",
       "      <th>airline_sentiment_gold</th>\n",
       "      <th>name</th>\n",
       "      <th>negativereason_gold</th>\n",
       "      <th>retweet_count</th>\n",
       "      <th>text</th>\n",
       "      <th>tweet_coord</th>\n",
       "      <th>tweet_created</th>\n",
       "      <th>tweet_location</th>\n",
       "      <th>user_timezone</th>\n",
       "    </tr>\n",
       "  </thead>\n",
       "  <tbody>\n",
       "    <tr>\n",
       "      <th>11879</th>\n",
       "      <td>570308309682675712</td>\n",
       "      <td>negative</td>\n",
       "      <td>1.0000</td>\n",
       "      <td>Customer Service Issue</td>\n",
       "      <td>1.0000</td>\n",
       "      <td>American</td>\n",
       "      <td>NaN</td>\n",
       "      <td>SweeLoTmac</td>\n",
       "      <td>NaN</td>\n",
       "      <td>0</td>\n",
       "      <td>@AmericanAir why would I even consider continu...</td>\n",
       "      <td>NaN</td>\n",
       "      <td>2015-02-24 11:44:31 -0800</td>\n",
       "      <td>NaN</td>\n",
       "      <td>Quito</td>\n",
       "    </tr>\n",
       "    <tr>\n",
       "      <th>11880</th>\n",
       "      <td>570308064185880577</td>\n",
       "      <td>neutral</td>\n",
       "      <td>0.6667</td>\n",
       "      <td>NaN</td>\n",
       "      <td>NaN</td>\n",
       "      <td>American</td>\n",
       "      <td>NaN</td>\n",
       "      <td>LancasterPattie</td>\n",
       "      <td>NaN</td>\n",
       "      <td>0</td>\n",
       "      <td>@AmericanAir we've already made other arrangem...</td>\n",
       "      <td>NaN</td>\n",
       "      <td>2015-02-24 11:43:32 -0800</td>\n",
       "      <td>NaN</td>\n",
       "      <td>NaN</td>\n",
       "    </tr>\n",
       "    <tr>\n",
       "      <th>11881</th>\n",
       "      <td>570307949614256128</td>\n",
       "      <td>negative</td>\n",
       "      <td>0.6316</td>\n",
       "      <td>Bad Flight</td>\n",
       "      <td>0.3164</td>\n",
       "      <td>American</td>\n",
       "      <td>NaN</td>\n",
       "      <td>ELLLORRAC</td>\n",
       "      <td>NaN</td>\n",
       "      <td>0</td>\n",
       "      <td>@AmericanAir thanks for getting back to me. Bu...</td>\n",
       "      <td>NaN</td>\n",
       "      <td>2015-02-24 11:43:05 -0800</td>\n",
       "      <td>NaN</td>\n",
       "      <td>Central Time (US &amp; Canada)</td>\n",
       "    </tr>\n",
       "    <tr>\n",
       "      <th>11882</th>\n",
       "      <td>570307948171423745</td>\n",
       "      <td>negative</td>\n",
       "      <td>0.6846</td>\n",
       "      <td>Flight Booking Problems</td>\n",
       "      <td>0.6846</td>\n",
       "      <td>American</td>\n",
       "      <td>NaN</td>\n",
       "      <td>SweeLoTmac</td>\n",
       "      <td>NaN</td>\n",
       "      <td>0</td>\n",
       "      <td>@AmericanAir why would I pay $200 to reactivat...</td>\n",
       "      <td>NaN</td>\n",
       "      <td>2015-02-24 11:43:05 -0800</td>\n",
       "      <td>NaN</td>\n",
       "      <td>Quito</td>\n",
       "    </tr>\n",
       "    <tr>\n",
       "      <th>11883</th>\n",
       "      <td>570307434113310720</td>\n",
       "      <td>negative</td>\n",
       "      <td>0.6547</td>\n",
       "      <td>Late Flight</td>\n",
       "      <td>0.3331</td>\n",
       "      <td>American</td>\n",
       "      <td>NaN</td>\n",
       "      <td>LauraMolito</td>\n",
       "      <td>NaN</td>\n",
       "      <td>0</td>\n",
       "      <td>@AmericanAir stranded for 24 hours in MIA, Pat...</td>\n",
       "      <td>NaN</td>\n",
       "      <td>2015-02-24 11:41:02 -0800</td>\n",
       "      <td>New York, NY</td>\n",
       "      <td>Atlantic Time (Canada)</td>\n",
       "    </tr>\n",
       "    <tr>\n",
       "      <th>...</th>\n",
       "      <td>...</td>\n",
       "      <td>...</td>\n",
       "      <td>...</td>\n",
       "      <td>...</td>\n",
       "      <td>...</td>\n",
       "      <td>...</td>\n",
       "      <td>...</td>\n",
       "      <td>...</td>\n",
       "      <td>...</td>\n",
       "      <td>...</td>\n",
       "      <td>...</td>\n",
       "      <td>...</td>\n",
       "      <td>...</td>\n",
       "      <td>...</td>\n",
       "      <td>...</td>\n",
       "    </tr>\n",
       "    <tr>\n",
       "      <th>13995</th>\n",
       "      <td>569680231012773888</td>\n",
       "      <td>negative</td>\n",
       "      <td>1.0000</td>\n",
       "      <td>Customer Service Issue</td>\n",
       "      <td>1.0000</td>\n",
       "      <td>American</td>\n",
       "      <td>NaN</td>\n",
       "      <td>LBernieMeyer</td>\n",
       "      <td>NaN</td>\n",
       "      <td>0</td>\n",
       "      <td>@AmericanAir  800 number will not even let you...</td>\n",
       "      <td>NaN</td>\n",
       "      <td>2015-02-22 18:08:45 -0800</td>\n",
       "      <td>NaN</td>\n",
       "      <td>NaN</td>\n",
       "    </tr>\n",
       "    <tr>\n",
       "      <th>14386</th>\n",
       "      <td>569622568459636736</td>\n",
       "      <td>negative</td>\n",
       "      <td>1.0000</td>\n",
       "      <td>Customer Service Issue</td>\n",
       "      <td>0.6398</td>\n",
       "      <td>American</td>\n",
       "      <td>NaN</td>\n",
       "      <td>SchrierCar</td>\n",
       "      <td>NaN</td>\n",
       "      <td>0</td>\n",
       "      <td>@AmericanAir I want to speak to a human being!...</td>\n",
       "      <td>NaN</td>\n",
       "      <td>2015-02-22 14:19:38 -0800</td>\n",
       "      <td>NaN</td>\n",
       "      <td>NaN</td>\n",
       "    </tr>\n",
       "    <tr>\n",
       "      <th>14392</th>\n",
       "      <td>569621879633391616</td>\n",
       "      <td>negative</td>\n",
       "      <td>1.0000</td>\n",
       "      <td>Customer Service Issue</td>\n",
       "      <td>1.0000</td>\n",
       "      <td>American</td>\n",
       "      <td>NaN</td>\n",
       "      <td>salitron78</td>\n",
       "      <td>NaN</td>\n",
       "      <td>0</td>\n",
       "      <td>@AmericanAir no response to DM or email yet.  ...</td>\n",
       "      <td>NaN</td>\n",
       "      <td>2015-02-22 14:16:53 -0800</td>\n",
       "      <td>on @TheJR</td>\n",
       "      <td>Seoul</td>\n",
       "    </tr>\n",
       "    <tr>\n",
       "      <th>14543</th>\n",
       "      <td>569601363799359488</td>\n",
       "      <td>negative</td>\n",
       "      <td>1.0000</td>\n",
       "      <td>Flight Attendant Complaints</td>\n",
       "      <td>1.0000</td>\n",
       "      <td>American</td>\n",
       "      <td>NaN</td>\n",
       "      <td>stevereasnors</td>\n",
       "      <td>NaN</td>\n",
       "      <td>0</td>\n",
       "      <td>@AmericanAir should reconsider #usairways acqu...</td>\n",
       "      <td>NaN</td>\n",
       "      <td>2015-02-22 12:55:22 -0800</td>\n",
       "      <td>Los Angeles</td>\n",
       "      <td>Pacific Time (US &amp; Canada)</td>\n",
       "    </tr>\n",
       "    <tr>\n",
       "      <th>14556</th>\n",
       "      <td>569600137296633856</td>\n",
       "      <td>positive</td>\n",
       "      <td>1.0000</td>\n",
       "      <td>NaN</td>\n",
       "      <td>NaN</td>\n",
       "      <td>American</td>\n",
       "      <td>NaN</td>\n",
       "      <td>douglaskgordon</td>\n",
       "      <td>NaN</td>\n",
       "      <td>0</td>\n",
       "      <td>@AmericanAir Thank you.....you do the same!!</td>\n",
       "      <td>NaN</td>\n",
       "      <td>2015-02-22 12:50:30 -0800</td>\n",
       "      <td>Caribbean, New York and Miami.</td>\n",
       "      <td>Indiana (East)</td>\n",
       "    </tr>\n",
       "  </tbody>\n",
       "</table>\n",
       "<p>310 rows × 15 columns</p>\n",
       "</div>"
      ],
      "text/plain": [
       "                 tweet_id airline_sentiment  airline_sentiment_confidence  \\\n",
       "11879  570308309682675712          negative                        1.0000   \n",
       "11880  570308064185880577           neutral                        0.6667   \n",
       "11881  570307949614256128          negative                        0.6316   \n",
       "11882  570307948171423745          negative                        0.6846   \n",
       "11883  570307434113310720          negative                        0.6547   \n",
       "...                   ...               ...                           ...   \n",
       "13995  569680231012773888          negative                        1.0000   \n",
       "14386  569622568459636736          negative                        1.0000   \n",
       "14392  569621879633391616          negative                        1.0000   \n",
       "14543  569601363799359488          negative                        1.0000   \n",
       "14556  569600137296633856          positive                        1.0000   \n",
       "\n",
       "                    negativereason  negativereason_confidence   airline  \\\n",
       "11879       Customer Service Issue                     1.0000  American   \n",
       "11880                          NaN                        NaN  American   \n",
       "11881                   Bad Flight                     0.3164  American   \n",
       "11882      Flight Booking Problems                     0.6846  American   \n",
       "11883                  Late Flight                     0.3331  American   \n",
       "...                            ...                        ...       ...   \n",
       "13995       Customer Service Issue                     1.0000  American   \n",
       "14386       Customer Service Issue                     0.6398  American   \n",
       "14392       Customer Service Issue                     1.0000  American   \n",
       "14543  Flight Attendant Complaints                     1.0000  American   \n",
       "14556                          NaN                        NaN  American   \n",
       "\n",
       "      airline_sentiment_gold             name negativereason_gold  \\\n",
       "11879                    NaN       SweeLoTmac                 NaN   \n",
       "11880                    NaN  LancasterPattie                 NaN   \n",
       "11881                    NaN        ELLLORRAC                 NaN   \n",
       "11882                    NaN       SweeLoTmac                 NaN   \n",
       "11883                    NaN      LauraMolito                 NaN   \n",
       "...                      ...              ...                 ...   \n",
       "13995                    NaN     LBernieMeyer                 NaN   \n",
       "14386                    NaN       SchrierCar                 NaN   \n",
       "14392                    NaN       salitron78                 NaN   \n",
       "14543                    NaN    stevereasnors                 NaN   \n",
       "14556                    NaN   douglaskgordon                 NaN   \n",
       "\n",
       "       retweet_count                                               text  \\\n",
       "11879              0  @AmericanAir why would I even consider continu...   \n",
       "11880              0  @AmericanAir we've already made other arrangem...   \n",
       "11881              0  @AmericanAir thanks for getting back to me. Bu...   \n",
       "11882              0  @AmericanAir why would I pay $200 to reactivat...   \n",
       "11883              0  @AmericanAir stranded for 24 hours in MIA, Pat...   \n",
       "...              ...                                                ...   \n",
       "13995              0  @AmericanAir  800 number will not even let you...   \n",
       "14386              0  @AmericanAir I want to speak to a human being!...   \n",
       "14392              0  @AmericanAir no response to DM or email yet.  ...   \n",
       "14543              0  @AmericanAir should reconsider #usairways acqu...   \n",
       "14556              0       @AmericanAir Thank you.....you do the same!!   \n",
       "\n",
       "      tweet_coord              tweet_created                  tweet_location  \\\n",
       "11879         NaN  2015-02-24 11:44:31 -0800                             NaN   \n",
       "11880         NaN  2015-02-24 11:43:32 -0800                             NaN   \n",
       "11881         NaN  2015-02-24 11:43:05 -0800                             NaN   \n",
       "11882         NaN  2015-02-24 11:43:05 -0800                             NaN   \n",
       "11883         NaN  2015-02-24 11:41:02 -0800                    New York, NY   \n",
       "...           ...                        ...                             ...   \n",
       "13995         NaN  2015-02-22 18:08:45 -0800                             NaN   \n",
       "14386         NaN  2015-02-22 14:19:38 -0800                             NaN   \n",
       "14392         NaN  2015-02-22 14:16:53 -0800                       on @TheJR   \n",
       "14543         NaN  2015-02-22 12:55:22 -0800                     Los Angeles   \n",
       "14556         NaN  2015-02-22 12:50:30 -0800  Caribbean, New York and Miami.   \n",
       "\n",
       "                    user_timezone  \n",
       "11879                       Quito  \n",
       "11880                         NaN  \n",
       "11881  Central Time (US & Canada)  \n",
       "11882                       Quito  \n",
       "11883      Atlantic Time (Canada)  \n",
       "...                           ...  \n",
       "13995                         NaN  \n",
       "14386                         NaN  \n",
       "14392                       Seoul  \n",
       "14543  Pacific Time (US & Canada)  \n",
       "14556              Indiana (East)  \n",
       "\n",
       "[310 rows x 15 columns]"
      ]
     },
     "execution_count": 6,
     "metadata": {},
     "output_type": "execute_result"
    }
   ],
   "source": [
    "duplicates = df[df.duplicated('tweet_id', keep=False)]\n",
    "duplicates"
   ]
  },
  {
   "cell_type": "markdown",
   "metadata": {
    "id": "1otRyjLoJ4zE"
   },
   "source": [
    "*   Duplicates can be found in the dataframe\n"
   ]
  },
  {
   "cell_type": "markdown",
   "metadata": {
    "id": "8481CJniKHqy"
   },
   "source": [
    "All the duplicates from the dataframe have been dropped while keeping the first row"
   ]
  },
  {
   "cell_type": "code",
   "execution_count": 7,
   "metadata": {
    "colab": {
     "base_uri": "https://localhost:8080/",
     "height": 973
    },
    "id": "4eZiquT-KABZ",
    "outputId": "f580d0aa-32eb-42fb-9b5a-629c3411b4fb"
   },
   "outputs": [
    {
     "data": {
      "text/html": [
       "<div>\n",
       "<style scoped>\n",
       "    .dataframe tbody tr th:only-of-type {\n",
       "        vertical-align: middle;\n",
       "    }\n",
       "\n",
       "    .dataframe tbody tr th {\n",
       "        vertical-align: top;\n",
       "    }\n",
       "\n",
       "    .dataframe thead th {\n",
       "        text-align: right;\n",
       "    }\n",
       "</style>\n",
       "<table border=\"1\" class=\"dataframe\">\n",
       "  <thead>\n",
       "    <tr style=\"text-align: right;\">\n",
       "      <th></th>\n",
       "      <th>tweet_id</th>\n",
       "      <th>airline_sentiment</th>\n",
       "      <th>airline_sentiment_confidence</th>\n",
       "      <th>negativereason</th>\n",
       "      <th>negativereason_confidence</th>\n",
       "      <th>airline</th>\n",
       "      <th>airline_sentiment_gold</th>\n",
       "      <th>name</th>\n",
       "      <th>negativereason_gold</th>\n",
       "      <th>retweet_count</th>\n",
       "      <th>text</th>\n",
       "      <th>tweet_coord</th>\n",
       "      <th>tweet_created</th>\n",
       "      <th>tweet_location</th>\n",
       "      <th>user_timezone</th>\n",
       "    </tr>\n",
       "  </thead>\n",
       "  <tbody>\n",
       "    <tr>\n",
       "      <th>0</th>\n",
       "      <td>570306133677760513</td>\n",
       "      <td>neutral</td>\n",
       "      <td>1.0000</td>\n",
       "      <td>NaN</td>\n",
       "      <td>NaN</td>\n",
       "      <td>Virgin America</td>\n",
       "      <td>NaN</td>\n",
       "      <td>cairdin</td>\n",
       "      <td>NaN</td>\n",
       "      <td>0</td>\n",
       "      <td>@VirginAmerica What @dhepburn said.</td>\n",
       "      <td>NaN</td>\n",
       "      <td>2015-02-24 11:35:52 -0800</td>\n",
       "      <td>NaN</td>\n",
       "      <td>Eastern Time (US &amp; Canada)</td>\n",
       "    </tr>\n",
       "    <tr>\n",
       "      <th>1</th>\n",
       "      <td>570301130888122368</td>\n",
       "      <td>positive</td>\n",
       "      <td>0.3486</td>\n",
       "      <td>NaN</td>\n",
       "      <td>0.0000</td>\n",
       "      <td>Virgin America</td>\n",
       "      <td>NaN</td>\n",
       "      <td>jnardino</td>\n",
       "      <td>NaN</td>\n",
       "      <td>0</td>\n",
       "      <td>@VirginAmerica plus you've added commercials t...</td>\n",
       "      <td>NaN</td>\n",
       "      <td>2015-02-24 11:15:59 -0800</td>\n",
       "      <td>NaN</td>\n",
       "      <td>Pacific Time (US &amp; Canada)</td>\n",
       "    </tr>\n",
       "    <tr>\n",
       "      <th>2</th>\n",
       "      <td>570301083672813571</td>\n",
       "      <td>neutral</td>\n",
       "      <td>0.6837</td>\n",
       "      <td>NaN</td>\n",
       "      <td>NaN</td>\n",
       "      <td>Virgin America</td>\n",
       "      <td>NaN</td>\n",
       "      <td>yvonnalynn</td>\n",
       "      <td>NaN</td>\n",
       "      <td>0</td>\n",
       "      <td>@VirginAmerica I didn't today... Must mean I n...</td>\n",
       "      <td>NaN</td>\n",
       "      <td>2015-02-24 11:15:48 -0800</td>\n",
       "      <td>Lets Play</td>\n",
       "      <td>Central Time (US &amp; Canada)</td>\n",
       "    </tr>\n",
       "    <tr>\n",
       "      <th>3</th>\n",
       "      <td>570301031407624196</td>\n",
       "      <td>negative</td>\n",
       "      <td>1.0000</td>\n",
       "      <td>Bad Flight</td>\n",
       "      <td>0.7033</td>\n",
       "      <td>Virgin America</td>\n",
       "      <td>NaN</td>\n",
       "      <td>jnardino</td>\n",
       "      <td>NaN</td>\n",
       "      <td>0</td>\n",
       "      <td>@VirginAmerica it's really aggressive to blast...</td>\n",
       "      <td>NaN</td>\n",
       "      <td>2015-02-24 11:15:36 -0800</td>\n",
       "      <td>NaN</td>\n",
       "      <td>Pacific Time (US &amp; Canada)</td>\n",
       "    </tr>\n",
       "    <tr>\n",
       "      <th>4</th>\n",
       "      <td>570300817074462722</td>\n",
       "      <td>negative</td>\n",
       "      <td>1.0000</td>\n",
       "      <td>Can't Tell</td>\n",
       "      <td>1.0000</td>\n",
       "      <td>Virgin America</td>\n",
       "      <td>NaN</td>\n",
       "      <td>jnardino</td>\n",
       "      <td>NaN</td>\n",
       "      <td>0</td>\n",
       "      <td>@VirginAmerica and it's a really big bad thing...</td>\n",
       "      <td>NaN</td>\n",
       "      <td>2015-02-24 11:14:45 -0800</td>\n",
       "      <td>NaN</td>\n",
       "      <td>Pacific Time (US &amp; Canada)</td>\n",
       "    </tr>\n",
       "    <tr>\n",
       "      <th>...</th>\n",
       "      <td>...</td>\n",
       "      <td>...</td>\n",
       "      <td>...</td>\n",
       "      <td>...</td>\n",
       "      <td>...</td>\n",
       "      <td>...</td>\n",
       "      <td>...</td>\n",
       "      <td>...</td>\n",
       "      <td>...</td>\n",
       "      <td>...</td>\n",
       "      <td>...</td>\n",
       "      <td>...</td>\n",
       "      <td>...</td>\n",
       "      <td>...</td>\n",
       "      <td>...</td>\n",
       "    </tr>\n",
       "    <tr>\n",
       "      <th>14635</th>\n",
       "      <td>569587686496825344</td>\n",
       "      <td>positive</td>\n",
       "      <td>0.3487</td>\n",
       "      <td>NaN</td>\n",
       "      <td>0.0000</td>\n",
       "      <td>American</td>\n",
       "      <td>NaN</td>\n",
       "      <td>KristenReenders</td>\n",
       "      <td>NaN</td>\n",
       "      <td>0</td>\n",
       "      <td>@AmericanAir thank you we got on a different f...</td>\n",
       "      <td>NaN</td>\n",
       "      <td>2015-02-22 12:01:01 -0800</td>\n",
       "      <td>NaN</td>\n",
       "      <td>NaN</td>\n",
       "    </tr>\n",
       "    <tr>\n",
       "      <th>14636</th>\n",
       "      <td>569587371693355008</td>\n",
       "      <td>negative</td>\n",
       "      <td>1.0000</td>\n",
       "      <td>Customer Service Issue</td>\n",
       "      <td>1.0000</td>\n",
       "      <td>American</td>\n",
       "      <td>NaN</td>\n",
       "      <td>itsropes</td>\n",
       "      <td>NaN</td>\n",
       "      <td>0</td>\n",
       "      <td>@AmericanAir leaving over 20 minutes Late Flig...</td>\n",
       "      <td>NaN</td>\n",
       "      <td>2015-02-22 11:59:46 -0800</td>\n",
       "      <td>Texas</td>\n",
       "      <td>NaN</td>\n",
       "    </tr>\n",
       "    <tr>\n",
       "      <th>14637</th>\n",
       "      <td>569587242672398336</td>\n",
       "      <td>neutral</td>\n",
       "      <td>1.0000</td>\n",
       "      <td>NaN</td>\n",
       "      <td>NaN</td>\n",
       "      <td>American</td>\n",
       "      <td>NaN</td>\n",
       "      <td>sanyabun</td>\n",
       "      <td>NaN</td>\n",
       "      <td>0</td>\n",
       "      <td>@AmericanAir Please bring American Airlines to...</td>\n",
       "      <td>NaN</td>\n",
       "      <td>2015-02-22 11:59:15 -0800</td>\n",
       "      <td>Nigeria,lagos</td>\n",
       "      <td>NaN</td>\n",
       "    </tr>\n",
       "    <tr>\n",
       "      <th>14638</th>\n",
       "      <td>569587188687634433</td>\n",
       "      <td>negative</td>\n",
       "      <td>1.0000</td>\n",
       "      <td>Customer Service Issue</td>\n",
       "      <td>0.6659</td>\n",
       "      <td>American</td>\n",
       "      <td>NaN</td>\n",
       "      <td>SraJackson</td>\n",
       "      <td>NaN</td>\n",
       "      <td>0</td>\n",
       "      <td>@AmericanAir you have my money, you change my ...</td>\n",
       "      <td>NaN</td>\n",
       "      <td>2015-02-22 11:59:02 -0800</td>\n",
       "      <td>New Jersey</td>\n",
       "      <td>Eastern Time (US &amp; Canada)</td>\n",
       "    </tr>\n",
       "    <tr>\n",
       "      <th>14639</th>\n",
       "      <td>569587140490866689</td>\n",
       "      <td>neutral</td>\n",
       "      <td>0.6771</td>\n",
       "      <td>NaN</td>\n",
       "      <td>0.0000</td>\n",
       "      <td>American</td>\n",
       "      <td>NaN</td>\n",
       "      <td>daviddtwu</td>\n",
       "      <td>NaN</td>\n",
       "      <td>0</td>\n",
       "      <td>@AmericanAir we have 8 ppl so we need 2 know h...</td>\n",
       "      <td>NaN</td>\n",
       "      <td>2015-02-22 11:58:51 -0800</td>\n",
       "      <td>dallas, TX</td>\n",
       "      <td>NaN</td>\n",
       "    </tr>\n",
       "  </tbody>\n",
       "</table>\n",
       "<p>14485 rows × 15 columns</p>\n",
       "</div>"
      ],
      "text/plain": [
       "                 tweet_id airline_sentiment  airline_sentiment_confidence  \\\n",
       "0      570306133677760513           neutral                        1.0000   \n",
       "1      570301130888122368          positive                        0.3486   \n",
       "2      570301083672813571           neutral                        0.6837   \n",
       "3      570301031407624196          negative                        1.0000   \n",
       "4      570300817074462722          negative                        1.0000   \n",
       "...                   ...               ...                           ...   \n",
       "14635  569587686496825344          positive                        0.3487   \n",
       "14636  569587371693355008          negative                        1.0000   \n",
       "14637  569587242672398336           neutral                        1.0000   \n",
       "14638  569587188687634433          negative                        1.0000   \n",
       "14639  569587140490866689           neutral                        0.6771   \n",
       "\n",
       "               negativereason  negativereason_confidence         airline  \\\n",
       "0                         NaN                        NaN  Virgin America   \n",
       "1                         NaN                     0.0000  Virgin America   \n",
       "2                         NaN                        NaN  Virgin America   \n",
       "3                  Bad Flight                     0.7033  Virgin America   \n",
       "4                  Can't Tell                     1.0000  Virgin America   \n",
       "...                       ...                        ...             ...   \n",
       "14635                     NaN                     0.0000        American   \n",
       "14636  Customer Service Issue                     1.0000        American   \n",
       "14637                     NaN                        NaN        American   \n",
       "14638  Customer Service Issue                     0.6659        American   \n",
       "14639                     NaN                     0.0000        American   \n",
       "\n",
       "      airline_sentiment_gold             name negativereason_gold  \\\n",
       "0                        NaN          cairdin                 NaN   \n",
       "1                        NaN         jnardino                 NaN   \n",
       "2                        NaN       yvonnalynn                 NaN   \n",
       "3                        NaN         jnardino                 NaN   \n",
       "4                        NaN         jnardino                 NaN   \n",
       "...                      ...              ...                 ...   \n",
       "14635                    NaN  KristenReenders                 NaN   \n",
       "14636                    NaN         itsropes                 NaN   \n",
       "14637                    NaN         sanyabun                 NaN   \n",
       "14638                    NaN       SraJackson                 NaN   \n",
       "14639                    NaN        daviddtwu                 NaN   \n",
       "\n",
       "       retweet_count                                               text  \\\n",
       "0                  0                @VirginAmerica What @dhepburn said.   \n",
       "1                  0  @VirginAmerica plus you've added commercials t...   \n",
       "2                  0  @VirginAmerica I didn't today... Must mean I n...   \n",
       "3                  0  @VirginAmerica it's really aggressive to blast...   \n",
       "4                  0  @VirginAmerica and it's a really big bad thing...   \n",
       "...              ...                                                ...   \n",
       "14635              0  @AmericanAir thank you we got on a different f...   \n",
       "14636              0  @AmericanAir leaving over 20 minutes Late Flig...   \n",
       "14637              0  @AmericanAir Please bring American Airlines to...   \n",
       "14638              0  @AmericanAir you have my money, you change my ...   \n",
       "14639              0  @AmericanAir we have 8 ppl so we need 2 know h...   \n",
       "\n",
       "      tweet_coord              tweet_created tweet_location  \\\n",
       "0             NaN  2015-02-24 11:35:52 -0800            NaN   \n",
       "1             NaN  2015-02-24 11:15:59 -0800            NaN   \n",
       "2             NaN  2015-02-24 11:15:48 -0800      Lets Play   \n",
       "3             NaN  2015-02-24 11:15:36 -0800            NaN   \n",
       "4             NaN  2015-02-24 11:14:45 -0800            NaN   \n",
       "...           ...                        ...            ...   \n",
       "14635         NaN  2015-02-22 12:01:01 -0800            NaN   \n",
       "14636         NaN  2015-02-22 11:59:46 -0800          Texas   \n",
       "14637         NaN  2015-02-22 11:59:15 -0800  Nigeria,lagos   \n",
       "14638         NaN  2015-02-22 11:59:02 -0800     New Jersey   \n",
       "14639         NaN  2015-02-22 11:58:51 -0800     dallas, TX   \n",
       "\n",
       "                    user_timezone  \n",
       "0      Eastern Time (US & Canada)  \n",
       "1      Pacific Time (US & Canada)  \n",
       "2      Central Time (US & Canada)  \n",
       "3      Pacific Time (US & Canada)  \n",
       "4      Pacific Time (US & Canada)  \n",
       "...                           ...  \n",
       "14635                         NaN  \n",
       "14636                         NaN  \n",
       "14637                         NaN  \n",
       "14638  Eastern Time (US & Canada)  \n",
       "14639                         NaN  \n",
       "\n",
       "[14485 rows x 15 columns]"
      ]
     },
     "execution_count": 7,
     "metadata": {},
     "output_type": "execute_result"
    }
   ],
   "source": [
    "df = df.drop_duplicates(subset='tweet_id', keep='first')\n",
    "df"
   ]
  },
  {
   "cell_type": "code",
   "execution_count": 8,
   "metadata": {
    "colab": {
     "base_uri": "https://localhost:8080/"
    },
    "id": "2IUNupP3KgYQ",
    "outputId": "aea8da06-7241-4d5c-838c-1439e891e7c3"
   },
   "outputs": [
    {
     "data": {
      "text/plain": [
       "(14485, 15)"
      ]
     },
     "execution_count": 8,
     "metadata": {},
     "output_type": "execute_result"
    }
   ],
   "source": [
    "df.shape"
   ]
  },
  {
   "cell_type": "code",
   "execution_count": 9,
   "metadata": {
    "id": "ByOc6KoxMsb1"
   },
   "outputs": [],
   "source": [
    "# Resetting the index\n",
    "df = df.reset_index()\n",
    "df = df.drop(columns = 'index')"
   ]
  },
  {
   "cell_type": "code",
   "execution_count": 10,
   "metadata": {
    "colab": {
     "base_uri": "https://localhost:8080/"
    },
    "id": "DRCS4QtYM1iK",
    "outputId": "a2735cd4-1c3c-4168-8cc0-13ac1961456b"
   },
   "outputs": [
    {
     "data": {
      "text/plain": [
       "negative    9082\n",
       "neutral     3069\n",
       "positive    2334\n",
       "Name: airline_sentiment, dtype: int64"
      ]
     },
     "execution_count": 10,
     "metadata": {},
     "output_type": "execute_result"
    }
   ],
   "source": [
    "df[\"airline_sentiment\"].value_counts().sort_values(ascending=False)"
   ]
  },
  {
   "cell_type": "code",
   "execution_count": 11,
   "metadata": {
    "colab": {
     "base_uri": "https://localhost:8080/",
     "height": 607
    },
    "id": "sVG9nifBIkbG",
    "outputId": "a89a0b08-74cf-47c5-c926-81173dfe6bb5"
   },
   "outputs": [
    {
     "data": {
      "image/png": "[encoded data removed]",
      "text/plain": [
       "<Figure size 576x432 with 1 Axes>"
      ]
     },
     "metadata": {
      "needs_background": "light"
     },
     "output_type": "display_data"
    }
   ],
   "source": [
    "value_counts = df['airline_sentiment'].value_counts()\n",
    "value_counts = value_counts.sort_values(ascending=False)\n",
    "\n",
    "# Create the bar plot\n",
    "plt.figure(figsize=(8, 6))\n",
    "plt.bar(value_counts.index, value_counts.values, color='skyblue')\n",
    "\n",
    "plt.xlabel('Airline sentiment', fontsize=12)  # Customizing the font size\n",
    "plt.ylabel('Frequency', fontsize=12)  # Customizing the font size\n",
    "plt.title('Airline sentiment type', fontsize=14, fontweight='bold')\n",
    "\n",
    "# Customizing the tick parameters\n",
    "plt.xticks(fontsize=10, rotation=45)\n",
    "\n",
    "# Customizing the grid\n",
    "plt.grid(axis='y', linestyle='--', alpha=0.7)\n",
    "\n",
    "# Adding a background colour\n",
    "plt.gca().set_facecolor('lightgrey')\n",
    "\n",
    "# Show the plot\n",
    "plt.tight_layout()\n",
    "plt.show()"
   ]
  },
  {
   "cell_type": "markdown",
   "metadata": {
    "id": "F-Z4MgSwv0ae"
   },
   "source": [
    "From the above graph, it should be noted that at a glance the negative sentiments are over 3 times the positive sentiments"
   ]
  },
  {
   "cell_type": "markdown",
   "metadata": {
    "id": "WoTENRXBNkIS"
   },
   "source": [
    "Remove/ drop unwanted columns"
   ]
  },
  {
   "cell_type": "code",
   "execution_count": 12,
   "metadata": {
    "id": "q2k2v98ENnSQ"
   },
   "outputs": [],
   "source": [
    "df = df.drop(columns = ['airline_sentiment_gold' , 'negativereason_gold' , 'tweet_coord' ,\n",
    "                       'tweet_created' , 'user_timezone'])"
   ]
  },
  {
   "cell_type": "code",
   "execution_count": 13,
   "metadata": {
    "colab": {
     "base_uri": "https://localhost:8080/"
    },
    "id": "I7nW9hNcSuPt",
    "outputId": "77873e7b-8a9a-4eb6-ca8d-c8d2bfea18ae"
   },
   "outputs": [
    {
     "data": {
      "text/plain": [
       "United            3822\n",
       "US Airways        2913\n",
       "American          2604\n",
       "Southwest         2420\n",
       "Delta             2222\n",
       "Virgin America     504\n",
       "Name: airline, dtype: int64"
      ]
     },
     "execution_count": 13,
     "metadata": {},
     "output_type": "execute_result"
    }
   ],
   "source": [
    "group_counts_descending = df[\"airline\"].value_counts().sort_values(ascending=False)\n",
    "group_counts_descending"
   ]
  },
  {
   "cell_type": "markdown",
   "metadata": {
    "id": "5DkManrPS85J"
   },
   "source": [
    "Plotting a column graph showcasing the Popularity of Airlines - Visualizations always help!"
   ]
  },
  {
   "cell_type": "code",
   "execution_count": 14,
   "metadata": {
    "colab": {
     "base_uri": "https://localhost:8080/",
     "height": 607
    },
    "id": "H2i8_ytJTDcS",
    "outputId": "ad51fa35-d04a-4301-c1c6-07d55fea4ab7"
   },
   "outputs": [
    {
     "data": {
      "image/png": "[encoded data removed]",
      "text/plain": [
       "<Figure size 576x432 with 1 Axes>"
      ]
     },
     "metadata": {
      "needs_background": "light"
     },
     "output_type": "display_data"
    }
   ],
   "source": [
    "value_counts = df['airline'].value_counts()\n",
    "value_counts = value_counts.sort_values(ascending=False)\n",
    "\n",
    "# Create the bar plot\n",
    "plt.figure(figsize=(8, 6))\n",
    "plt.bar(value_counts.index, value_counts.values, color='skyblue')\n",
    "\n",
    "plt.xlabel('Airline', fontsize=12)  # Customizing the font size\n",
    "plt.ylabel('Frequency', fontsize=12)  # Customizing the font size\n",
    "plt.title('Popularity of Airlines', fontsize=14, fontweight='bold')\n",
    "\n",
    "# Customizing the tick parameters\n",
    "plt.xticks(fontsize=10, rotation=45)\n",
    "\n",
    "# Customizing the grid\n",
    "plt.grid(axis='y', linestyle='--', alpha=0.7)\n",
    "\n",
    "# Add a background color (optional)\n",
    "plt.gca().set_facecolor('#f0f0f0')\n",
    "\n",
    "# Show the plot\n",
    "plt.tight_layout()\n",
    "plt.show()"
   ]
  },
  {
   "cell_type": "markdown",
   "metadata": {
    "id": "K_pYBojUru_4"
   },
   "source": [
    "Based on the number of tweets posted for each airline in the GIVEN dataset, it is possible for us to dive into the popularity of airlines.\n",
    "\n",
    "1. United is undoubtedly the most popular airline on Twitter boasting with the highest number of tweets of 3822. This might be seen as an indication that United possesses a social media presence that is strong and more engaged attracting a plethora of attention. On the contrary, it could also mean that the airline has issues attracting more negative attention.\n",
    "\n",
    "2. With 2913 tweets, US Airways maintains a close relationship with United and has a robust social media presence. Their high number of tweets could be an indication that US Airways actively engages with their audience and makes good use of Twitter as a forum for customer interactions and feedback.\n",
    "\n",
    "3. With 2604 tweets, American ranks third in terms of popularity, demonstrating a sizable Twitter presence. With 2420 tweets, which is a reasonable amount in terms of Twitter activity, Southwest claims the fourth place. Fifth in terms of popularity, Delta generated 2222 tweets. Although not at the top of the list, Delta nonetheless has a strong Twitter following and has probably developed a committed online following that interacts with the brand frequently.\n",
    "\n",
    "4. With only 504 tweets, Virgin America falls behind the other airlines on the list in terms of Twitter engagement. It's important to keep in mind, though, that the quantity of tweets may not accurately represent the popularity or performance of the airline overall on other platforms or metrics.\n",
    "\n",
    "As a result, according to the popularity ranking of airlines based on the quantity of tweets, United and US Airways are the most active users on Twitter, closely followed by American and Southwest. Virgin America appears to have a lesser Twitter following than Delta, which holds a respectable position. Airlines can use Twitter to engage with consumers, respond to complaints, and build a favorable brand image, but it's important to take a wider range of indicators into account when evaluating the platform's overall popularity and performance."
   ]
  },
  {
   "cell_type": "markdown",
   "metadata": {
    "id": "FHgQQEwmTx4X"
   },
   "source": [
    "Selection of the required columns to identify the most popular states where customers are located for each airline"
   ]
  },
  {
   "cell_type": "markdown",
   "metadata": {
    "id": "Qow81mX08l81"
   },
   "source": [
    "Dropping the missing values"
   ]
  },
  {
   "cell_type": "code",
   "execution_count": 16,
   "metadata": {
    "id": "pnrGSE2o8oHr"
   },
   "outputs": [],
   "source": [
    "df_task02 = df_task02.dropna()\n",
    "df_task02 = df_task02.reset_index()\n",
    "df_task02 = df_task02.drop(columns = 'index')"
   ]
  },
  {
   "cell_type": "markdown",
   "metadata": {
    "id": "61p3-zW59drS"
   },
   "source": [
    "Removing the numbers\n",
    "\n",
    "*   We can see that there are some numbers inside this column, so they have to be removed"
   ]
  },
  {
   "cell_type": "code",
   "execution_count": 17,
   "metadata": {
    "colab": {
     "base_uri": "https://localhost:8080/"
    },
    "id": "baYYuOxO9ozG",
    "outputId": "31c73103-24ae-4039-9ad8-b8cff6ac5ef7"
   },
   "outputs": [
    {
     "data": {
      "text/plain": [
       "Boston, MA                       156\n",
       "New York, NY                     155\n",
       "Washington, DC                   145\n",
       "New York                         125\n",
       "USA                              125\n",
       "                                ... \n",
       "( Maryland | North Carolina )      1\n",
       "Glen Burnie                        1\n",
       "Annapolis, MD USA                  1\n",
       "University City, MO                1\n",
       "Nigeria,lagos                      1\n",
       "Name: tweet_location, Length: 2970, dtype: int64"
      ]
     },
     "execution_count": 17,
     "metadata": {},
     "output_type": "execute_result"
    }
   ],
   "source": [
    "def remove_numbers(text):\n",
    "    return re.sub(r'\\d+', '', text)\n",
    "\n",
    "df_task02['tweet_location'] = df_task02['tweet_location'].apply(remove_numbers)\n",
    "\n",
    "df_task02[\"tweet_location\"].value_counts()"
   ]
  },
  {
   "cell_type": "markdown",
   "metadata": {
    "id": "OTQmyIAFs2Vj"
   },
   "source": [
    "<a id = \"cell_sentiment\"></a>\n",
    "### 3. Sentiment Analysis"
   ]
  },
  {
   "cell_type": "markdown",
   "metadata": {
    "id": "pTLIoUQr_qc5"
   },
   "source": [
    "Selection of required columns"
   ]
  },
  {
   "cell_type": "code",
   "execution_count": 34,
   "metadata": {
    "colab": {
     "base_uri": "https://localhost:8080/",
     "height": 423
    },
    "id": "G7M65iaJs2Vk",
    "outputId": "a22ee300-dc17-4f32-c27e-1b9b3fd5ac52"
   },
   "outputs": [
    {
     "data": {
      "text/html": [
       "<div>\n",
       "<style scoped>\n",
       "    .dataframe tbody tr th:only-of-type {\n",
       "        vertical-align: middle;\n",
       "    }\n",
       "\n",
       "    .dataframe tbody tr th {\n",
       "        vertical-align: top;\n",
       "    }\n",
       "\n",
       "    .dataframe thead th {\n",
       "        text-align: right;\n",
       "    }\n",
       "</style>\n",
       "<table border=\"1\" class=\"dataframe\">\n",
       "  <thead>\n",
       "    <tr style=\"text-align: right;\">\n",
       "      <th></th>\n",
       "      <th>airline_sentiment</th>\n",
       "      <th>text</th>\n",
       "    </tr>\n",
       "  </thead>\n",
       "  <tbody>\n",
       "    <tr>\n",
       "      <th>0</th>\n",
       "      <td>neutral</td>\n",
       "      <td>@VirginAmerica What @dhepburn said.</td>\n",
       "    </tr>\n",
       "    <tr>\n",
       "      <th>1</th>\n",
       "      <td>positive</td>\n",
       "      <td>@VirginAmerica plus you've added commercials t...</td>\n",
       "    </tr>\n",
       "    <tr>\n",
       "      <th>2</th>\n",
       "      <td>neutral</td>\n",
       "      <td>@VirginAmerica I didn't today... Must mean I n...</td>\n",
       "    </tr>\n",
       "    <tr>\n",
       "      <th>3</th>\n",
       "      <td>negative</td>\n",
       "      <td>@VirginAmerica it's really aggressive to blast...</td>\n",
       "    </tr>\n",
       "    <tr>\n",
       "      <th>4</th>\n",
       "      <td>negative</td>\n",
       "      <td>@VirginAmerica and it's a really big bad thing...</td>\n",
       "    </tr>\n",
       "    <tr>\n",
       "      <th>...</th>\n",
       "      <td>...</td>\n",
       "      <td>...</td>\n",
       "    </tr>\n",
       "    <tr>\n",
       "      <th>14480</th>\n",
       "      <td>positive</td>\n",
       "      <td>@AmericanAir thank you we got on a different f...</td>\n",
       "    </tr>\n",
       "    <tr>\n",
       "      <th>14481</th>\n",
       "      <td>negative</td>\n",
       "      <td>@AmericanAir leaving over 20 minutes Late Flig...</td>\n",
       "    </tr>\n",
       "    <tr>\n",
       "      <th>14482</th>\n",
       "      <td>neutral</td>\n",
       "      <td>@AmericanAir Please bring American Airlines to...</td>\n",
       "    </tr>\n",
       "    <tr>\n",
       "      <th>14483</th>\n",
       "      <td>negative</td>\n",
       "      <td>@AmericanAir you have my money, you change my ...</td>\n",
       "    </tr>\n",
       "    <tr>\n",
       "      <th>14484</th>\n",
       "      <td>neutral</td>\n",
       "      <td>@AmericanAir we have 8 ppl so we need 2 know h...</td>\n",
       "    </tr>\n",
       "  </tbody>\n",
       "</table>\n",
       "<p>14485 rows × 2 columns</p>\n",
       "</div>"
      ],
      "text/plain": [
       "      airline_sentiment                                               text\n",
       "0               neutral                @VirginAmerica What @dhepburn said.\n",
       "1              positive  @VirginAmerica plus you've added commercials t...\n",
       "2               neutral  @VirginAmerica I didn't today... Must mean I n...\n",
       "3              negative  @VirginAmerica it's really aggressive to blast...\n",
       "4              negative  @VirginAmerica and it's a really big bad thing...\n",
       "...                 ...                                                ...\n",
       "14480          positive  @AmericanAir thank you we got on a different f...\n",
       "14481          negative  @AmericanAir leaving over 20 minutes Late Flig...\n",
       "14482           neutral  @AmericanAir Please bring American Airlines to...\n",
       "14483          negative  @AmericanAir you have my money, you change my ...\n",
       "14484           neutral  @AmericanAir we have 8 ppl so we need 2 know h...\n",
       "\n",
       "[14485 rows x 2 columns]"
      ]
     },
     "execution_count": 34,
     "metadata": {},
     "output_type": "execute_result"
    }
   ],
   "source": [
    "df_task03 = df.copy()\n",
    "df_task03 = df_task03[[\"airline_sentiment\", \"text\"]]\n",
    "df_task03\n"
   ]
  },
  {
   "cell_type": "markdown",
   "metadata": {
    "id": "vBY1DpY4_wWK"
   },
   "source": [
    "Data Cleaning is done before proceeding (Text Data)"
   ]
  },
  {
   "cell_type": "code",
   "execution_count": 35,
   "metadata": {
    "id": "-KZOtodJ_yXy"
   },
   "outputs": [],
   "source": [
    "porter = PorterStemmer()\n",
    "\n",
    "documents = df_task03['text']\n",
    "Cleaned_doc = []\n",
    "for r in range(len(documents)):\n",
    "    review = documents[r]\n",
    "    try:\n",
    "\n",
    "        # Removing phrases starts with 'https'\n",
    "        review = re.sub(r'http://\\S+|https://\\S+', '', review)\n",
    "\n",
    "        # Removing emails\n",
    "        review = re.sub(r'[\\w\\.-]+@[\\w\\.-]+', '', review)\n",
    "\n",
    "        # Removing everything except alphabets\n",
    "        review = re.sub('[^A-Za-z]', ' ', review)\n",
    "\n",
    "        # Making all text lowercase\n",
    "        review = review.lower()\n",
    "\n",
    "        words_to_remove = ['virginamerica', 'united', 'southwestair','jetblue','usairways','americanair']\n",
    "        pattern = r'\\b(?:' + '|'.join(re.escape(word) for word in words_to_remove) + r')\\b'\n",
    "        review = re.sub(pattern, '', review)\n",
    "\n",
    "        # Applying tokenization\n",
    "        Tokens = review.split()\n",
    "\n",
    "        # Removing short words\n",
    "        Filtered_token = [w for w in Tokens if len(w)>3]\n",
    "        review = ' '.join(Filtered_token)\n",
    "\n",
    "    except:\n",
    "        continue\n",
    "    Cleaned_doc.append(review)"
   ]
  },
  {
   "cell_type": "code",
   "execution_count": 36,
   "metadata": {
    "id": "1yeQMA9P_3Xr"
   },
   "outputs": [],
   "source": [
    "stop_words = stopwords.words('english')\n",
    "\n",
    "# Remove Stop Words\n",
    "for r in range(len(Cleaned_doc)):\n",
    "    each_item = []\n",
    "    for t in Cleaned_doc[r].split():\n",
    "        if t not in stop_words:\n",
    "             each_item.append(t)\n",
    "    Cleaned_doc[r] = ' '.join(each_item)"
   ]
  },
  {
   "cell_type": "code",
   "execution_count": 37,
   "metadata": {
    "colab": {
     "base_uri": "https://localhost:8080/",
     "height": 423
    },
    "id": "C6uAhSYW_78r",
    "outputId": "2f212a67-7ac9-489a-baf9-420a10bc9184"
   },
   "outputs": [
    {
     "data": {
      "text/html": [
       "<div>\n",
       "<style scoped>\n",
       "    .dataframe tbody tr th:only-of-type {\n",
       "        vertical-align: middle;\n",
       "    }\n",
       "\n",
       "    .dataframe tbody tr th {\n",
       "        vertical-align: top;\n",
       "    }\n",
       "\n",
       "    .dataframe thead th {\n",
       "        text-align: right;\n",
       "    }\n",
       "</style>\n",
       "<table border=\"1\" class=\"dataframe\">\n",
       "  <thead>\n",
       "    <tr style=\"text-align: right;\">\n",
       "      <th></th>\n",
       "      <th>airline_sentiment</th>\n",
       "      <th>text</th>\n",
       "      <th>Cleaned_text</th>\n",
       "    </tr>\n",
       "  </thead>\n",
       "  <tbody>\n",
       "    <tr>\n",
       "      <th>0</th>\n",
       "      <td>neutral</td>\n",
       "      <td>@VirginAmerica What @dhepburn said.</td>\n",
       "      <td>dhepburn said</td>\n",
       "    </tr>\n",
       "    <tr>\n",
       "      <th>1</th>\n",
       "      <td>positive</td>\n",
       "      <td>@VirginAmerica plus you've added commercials t...</td>\n",
       "      <td>plus added commercials experience tacky</td>\n",
       "    </tr>\n",
       "    <tr>\n",
       "      <th>2</th>\n",
       "      <td>neutral</td>\n",
       "      <td>@VirginAmerica I didn't today... Must mean I n...</td>\n",
       "      <td>today must mean need take another trip</td>\n",
       "    </tr>\n",
       "    <tr>\n",
       "      <th>3</th>\n",
       "      <td>negative</td>\n",
       "      <td>@VirginAmerica it's really aggressive to blast...</td>\n",
       "      <td>really aggressive blast obnoxious entertainmen...</td>\n",
       "    </tr>\n",
       "    <tr>\n",
       "      <th>4</th>\n",
       "      <td>negative</td>\n",
       "      <td>@VirginAmerica and it's a really big bad thing...</td>\n",
       "      <td>really thing</td>\n",
       "    </tr>\n",
       "    <tr>\n",
       "      <th>...</th>\n",
       "      <td>...</td>\n",
       "      <td>...</td>\n",
       "      <td>...</td>\n",
       "    </tr>\n",
       "    <tr>\n",
       "      <th>14480</th>\n",
       "      <td>positive</td>\n",
       "      <td>@AmericanAir thank you we got on a different f...</td>\n",
       "      <td>thank different flight chicago</td>\n",
       "    </tr>\n",
       "    <tr>\n",
       "      <th>14481</th>\n",
       "      <td>negative</td>\n",
       "      <td>@AmericanAir leaving over 20 minutes Late Flig...</td>\n",
       "      <td>leaving minutes late flight warnings communica...</td>\n",
       "    </tr>\n",
       "    <tr>\n",
       "      <th>14482</th>\n",
       "      <td>neutral</td>\n",
       "      <td>@AmericanAir Please bring American Airlines to...</td>\n",
       "      <td>please bring american airlines blackberry</td>\n",
       "    </tr>\n",
       "    <tr>\n",
       "      <th>14483</th>\n",
       "      <td>negative</td>\n",
       "      <td>@AmericanAir you have my money, you change my ...</td>\n",
       "      <td>money change flight answer phones suggestions ...</td>\n",
       "    </tr>\n",
       "    <tr>\n",
       "      <th>14484</th>\n",
       "      <td>neutral</td>\n",
       "      <td>@AmericanAir we have 8 ppl so we need 2 know h...</td>\n",
       "      <td>need know many seats next flight standby peopl...</td>\n",
       "    </tr>\n",
       "  </tbody>\n",
       "</table>\n",
       "<p>14485 rows × 3 columns</p>\n",
       "</div>"
      ],
      "text/plain": [
       "      airline_sentiment                                               text  \\\n",
       "0               neutral                @VirginAmerica What @dhepburn said.   \n",
       "1              positive  @VirginAmerica plus you've added commercials t...   \n",
       "2               neutral  @VirginAmerica I didn't today... Must mean I n...   \n",
       "3              negative  @VirginAmerica it's really aggressive to blast...   \n",
       "4              negative  @VirginAmerica and it's a really big bad thing...   \n",
       "...                 ...                                                ...   \n",
       "14480          positive  @AmericanAir thank you we got on a different f...   \n",
       "14481          negative  @AmericanAir leaving over 20 minutes Late Flig...   \n",
       "14482           neutral  @AmericanAir Please bring American Airlines to...   \n",
       "14483          negative  @AmericanAir you have my money, you change my ...   \n",
       "14484           neutral  @AmericanAir we have 8 ppl so we need 2 know h...   \n",
       "\n",
       "                                            Cleaned_text  \n",
       "0                                          dhepburn said  \n",
       "1                plus added commercials experience tacky  \n",
       "2                 today must mean need take another trip  \n",
       "3      really aggressive blast obnoxious entertainmen...  \n",
       "4                                           really thing  \n",
       "...                                                  ...  \n",
       "14480                     thank different flight chicago  \n",
       "14481  leaving minutes late flight warnings communica...  \n",
       "14482          please bring american airlines blackberry  \n",
       "14483  money change flight answer phones suggestions ...  \n",
       "14484  need know many seats next flight standby peopl...  \n",
       "\n",
       "[14485 rows x 3 columns]"
      ]
     },
     "execution_count": 37,
     "metadata": {},
     "output_type": "execute_result"
    }
   ],
   "source": [
    "# Obtaining the \"cleaned\" document\n",
    "df_task03['Cleaned_text'] = Cleaned_doc\n",
    "df_task03"
   ]
  },
  {
   "cell_type": "markdown",
   "metadata": {
    "id": "7S2OzuUV2X90"
   },
   "source": [
    "Below, feature extraction has been conducted using \"Bag of Words Vectorizer\" and \"TF-IDF Vectorizer\". Following each feature extraction method, the Multinominal Naive Bayes and Random Forest Models have been used to predict the tweet's sentiments."
   ]
  },
  {
   "cell_type": "markdown",
   "metadata": {
    "id": "jOuXutB3AAob"
   },
   "source": [
    "**Feature Extraction - Bag of Words Vectorizer**"
   ]
  },
  {
   "cell_type": "code",
   "execution_count": 38,
   "metadata": {
    "colab": {
     "base_uri": "https://localhost:8080/"
    },
    "id": "_w0i_JNZAKAG",
    "outputId": "16340bf2-a69d-4133-921c-d9fc83a0b3a1"
   },
   "outputs": [
    {
     "name": "stdout",
     "output_type": "stream",
     "text": [
      "Bag of Word Matrix size:  (14485, 10491)\n",
      "Data in the first row:\n",
      "   (0, 6897)\t1\n",
      "  (0, 113)\t1\n",
      "  (0, 1820)\t1\n",
      "  (0, 3196)\t1\n",
      "  (0, 9045)\t1\n"
     ]
    }
   ],
   "source": [
    "# Tokenizer to remove unwanted elements from out data like symbols and numbers\n",
    "token = RegexpTokenizer(r'[a-zA-Z0-9]+')\n",
    "cv = CountVectorizer(lowercase=True,stop_words='english',ngram_range = (1,1),tokenizer = token.tokenize)\n",
    "\n",
    "text_counts = cv.fit_transform(df_task03['Cleaned_text'])\n",
    "print('Bag of Word Matrix size: ', text_counts.shape)\n",
    "print('Data in the first row:\\n', text_counts[1,:])"
   ]
  },
  {
   "cell_type": "markdown",
   "metadata": {
    "id": "iyo8jEhFASLH"
   },
   "source": [
    "Split the vector into training and testing data"
   ]
  },
  {
   "cell_type": "code",
   "execution_count": 39,
   "metadata": {
    "id": "XHJm89GXAWCy"
   },
   "outputs": [],
   "source": [
    "X_train, X_test, y_train, y_test = train_test_split(\n",
    "    text_counts, df_task03['airline_sentiment'], test_size=0.3, random_state=1)"
   ]
  },
  {
   "cell_type": "markdown",
   "metadata": {
    "id": "362mHW7SAay2"
   },
   "source": [
    "**01. Multinomial Naive Bayes Model**"
   ]
  },
  {
   "cell_type": "code",
   "execution_count": 40,
   "metadata": {
    "colab": {
     "base_uri": "https://localhost:8080/"
    },
    "id": "fiIadfPoAioU",
    "outputId": "fc8a904e-2d3f-4e60-9867-dd0d95c2d562"
   },
   "outputs": [
    {
     "name": "stdout",
     "output_type": "stream",
     "text": [
      "MultinomialNB Accuracy: 0.739\n"
     ]
    }
   ],
   "source": [
    "clf = MultinomialNB().fit(X_train, y_train)\n",
    "predicted_mlb= clf.predict(X_test)\n",
    "print(\"MultinomialNB Accuracy:\", round(metrics.accuracy_score(y_test, predicted_mlb),3))"
   ]
  },
  {
   "cell_type": "code",
   "execution_count": 41,
   "metadata": {
    "colab": {
     "base_uri": "https://localhost:8080/"
    },
    "id": "DGy7wHEbAmpG",
    "outputId": "f1f23974-1411-49d2-9daa-07e8408f03d3"
   },
   "outputs": [
    {
     "name": "stdout",
     "output_type": "stream",
     "text": [
      "Confusion Matrix: MNB\n",
      "[[2504  123   71]\n",
      " [ 540  317   83]\n",
      " [ 258   59  391]]\n"
     ]
    }
   ],
   "source": [
    "# Compute the confusion matrix\n",
    "confusion_mat_mlb = confusion_matrix(y_test, predicted_mlb)\n",
    "\n",
    "# Display the confusion matrix\n",
    "print(\"Confusion Matrix: MNB\")\n",
    "print(confusion_mat_mlb)"
   ]
  },
  {
   "cell_type": "code",
   "execution_count": 42,
   "metadata": {
    "colab": {
     "base_uri": "https://localhost:8080/",
     "height": 415
    },
    "id": "0FEWNA9YAwTC",
    "outputId": "2bed383e-e71d-430a-b27e-916d05b06c18"
   },
   "outputs": [
    {
     "data": {
      "image/png": "[encoded data removed]",
      "text/plain": [
       "<Figure size 432x288 with 2 Axes>"
      ]
     },
     "metadata": {
      "needs_background": "light"
     },
     "output_type": "display_data"
    }
   ],
   "source": [
    "# Define the labels for the rows and columns of the confusion matrix (class names)\n",
    "class_names = ['negative', 'neutral', 'positive']\n",
    "\n",
    "# Create a heatmap using seaborn\n",
    "plt.figure(figsize=(6, 4))\n",
    "sns.heatmap(confusion_mat_mlb, annot=True, fmt=\"d\", cmap=\"Blues\", xticklabels=class_names, yticklabels=class_names)\n",
    "\n",
    "# Customizing the labels, title, and axes\n",
    "plt.xlabel('Predicted Label', fontsize=12)\n",
    "plt.ylabel('True Label', fontsize=12)\n",
    "plt.title('Confusion Matrix', fontsize=14, fontweight='bold')\n",
    "\n",
    "# Show the plot\n",
    "plt.show()"
   ]
  },
  {
   "cell_type": "code",
   "execution_count": 43,
   "metadata": {},
   "outputs": [
    {
     "name": "stdout",
     "output_type": "stream",
     "text": [
      "Classification Report:\n",
      "              precision    recall  f1-score   support\n",
      "\n",
      "    negative       0.76      0.93      0.83      2698\n",
      "     neutral       0.64      0.34      0.44       940\n",
      "    positive       0.72      0.55      0.62       708\n",
      "\n",
      "    accuracy                           0.74      4346\n",
      "   macro avg       0.70      0.61      0.63      4346\n",
      "weighted avg       0.73      0.74      0.72      4346\n",
      "\n"
     ]
    }
   ],
   "source": [
    "# Classification Report\n",
    "class_report = classification_report(y_test, predicted_mlb)\n",
    "print(\"Classification Report:\")\n",
    "print(class_report)"
   ]
  },
  {
   "cell_type": "markdown",
   "metadata": {
    "id": "ei5bb8dfA0H3"
   },
   "source": [
    "**02. Random Forest Model**"
   ]
  },
  {
   "cell_type": "code",
   "execution_count": 44,
   "metadata": {
    "colab": {
     "base_uri": "https://localhost:8080/"
    },
    "id": "QLDo_chUA3Df",
    "outputId": "0773a53e-17d2-4ab1-b662-f4bb57a50e44"
   },
   "outputs": [
    {
     "name": "stdout",
     "output_type": "stream",
     "text": [
      "Random forest Accuracy: 0.739\n"
     ]
    }
   ],
   "source": [
    "# Create and train the Random Forest model\n",
    "rf_classifier = RandomForestClassifier(n_estimators=100, random_state=42)\n",
    "rf_classifier.fit(X_train, y_train)\n",
    "\n",
    "# Make predictions on the test set\n",
    "predicted_rf = rf_classifier.predict(X_test)\n",
    "print(\"Random forest Accuracy:\", round(metrics.accuracy_score(y_test, predicted_rf),3))"
   ]
  },
  {
   "cell_type": "code",
   "execution_count": 45,
   "metadata": {
    "colab": {
     "base_uri": "https://localhost:8080/"
    },
    "id": "LFMO4qbYBDKu",
    "outputId": "eb715d5e-3d02-46f6-e8df-f01100363b9b"
   },
   "outputs": [
    {
     "name": "stdout",
     "output_type": "stream",
     "text": [
      "Confusion Matrix: RF\n",
      "[[2298  294  106]\n",
      " [ 361  476  103]\n",
      " [ 165  107  436]]\n"
     ]
    }
   ],
   "source": [
    "# Compute the confusion matrix\n",
    "confusion_mat_rf = confusion_matrix(y_test, predicted_rf)\n",
    "\n",
    "# Display the confusion matrix\n",
    "print(\"Confusion Matrix: RF\")\n",
    "print(confusion_mat_rf)"
   ]
  },
  {
   "cell_type": "code",
   "execution_count": 46,
   "metadata": {
    "colab": {
     "base_uri": "https://localhost:8080/",
     "height": 415
    },
    "id": "JkQTd2b0BH5l",
    "outputId": "de4860f1-2544-41c7-e2c3-ee6b5567cd48"
   },
   "outputs": [
    {
     "data": {
      "image/png": "[encoded data removed]",
      "text/plain": [
       "<Figure size 432x288 with 2 Axes>"
      ]
     },
     "metadata": {
      "needs_background": "light"
     },
     "output_type": "display_data"
    }
   ],
   "source": [
    "# Define the labels for the rows and columns of the confusion matrix (class names)\n",
    "class_names = ['negative', 'neutral', 'positive']\n",
    "\n",
    "# Create a heatmap using seaborn\n",
    "plt.figure(figsize=(6, 4))\n",
    "sns.heatmap(confusion_mat_rf, annot=True, fmt=\"d\", cmap=\"Blues\", xticklabels=class_names, yticklabels=class_names)\n",
    "\n",
    "# Customizing the labels, title, and axes\n",
    "plt.xlabel('Predicted Label', fontsize=12)\n",
    "plt.ylabel('True Label', fontsize=12)\n",
    "plt.title('Confusion Matrix', fontsize=14, fontweight='bold')\n",
    "\n",
    "# Show the plot\n",
    "plt.show()"
   ]
  },
  {
   "cell_type": "code",
   "execution_count": 47,
   "metadata": {},
   "outputs": [
    {
     "name": "stdout",
     "output_type": "stream",
     "text": [
      "Classification Report:\n",
      "              precision    recall  f1-score   support\n",
      "\n",
      "    negative       0.81      0.85      0.83      2698\n",
      "     neutral       0.54      0.51      0.52       940\n",
      "    positive       0.68      0.62      0.64       708\n",
      "\n",
      "    accuracy                           0.74      4346\n",
      "   macro avg       0.68      0.66      0.67      4346\n",
      "weighted avg       0.73      0.74      0.74      4346\n",
      "\n"
     ]
    }
   ],
   "source": [
    "# Classification Report\n",
    "class_report = classification_report(y_test, predicted_rf)\n",
    "print(\"Classification Report:\")\n",
    "print(class_report)"
   ]
  },
  {
   "cell_type": "markdown",
   "metadata": {
    "id": "w7Uj_wIEBLaa"
   },
   "source": [
    "**Feature Extraction - TF-IDF Vectorizer**"
   ]
  },
  {
   "cell_type": "code",
   "execution_count": 48,
   "metadata": {
    "colab": {
     "base_uri": "https://localhost:8080/"
    },
    "id": "SHBOvygeBO9S",
    "outputId": "863e65c4-5454-41e1-a69f-2c325315bdb3"
   },
   "outputs": [
    {
     "name": "stdout",
     "output_type": "stream",
     "text": [
      "TF-IDF Matrix size: (14485, 10491)\n",
      "Data in the first row:\n",
      "   (0, 7929)\t0.48080164381817436\n",
      "  (0, 2518)\t0.876829390076394\n"
     ]
    }
   ],
   "source": [
    "# Initialize the TF-IDF vectorizer\n",
    "tfidf_vectorizer = TfidfVectorizer(lowercase=True, stop_words='english', tokenizer=token.tokenize)\n",
    "\n",
    "# Fit and transform the 'Cleaned_text' data using TF-IDF vectorizer\n",
    "tfidf_matrix = tfidf_vectorizer.fit_transform(df_task03['Cleaned_text'])\n",
    "\n",
    "# Print the size of the TF-IDF matrix\n",
    "print('TF-IDF Matrix size:', tfidf_matrix.shape)\n",
    "\n",
    "# Print the data in the first row of the TF-IDF matrix\n",
    "print('Data in the first row:\\n', tfidf_matrix[0, :])"
   ]
  },
  {
   "cell_type": "markdown",
   "metadata": {
    "id": "OqvrpCK6Bi--"
   },
   "source": [
    "Split the vector into training and testing sets"
   ]
  },
  {
   "cell_type": "code",
   "execution_count": 49,
   "metadata": {
    "id": "0IbBWivHBjz3"
   },
   "outputs": [],
   "source": [
    "X_train, X_test, y_train, y_test = train_test_split(\n",
    "    tfidf_matrix, df_task03['airline_sentiment'], test_size=0.3, random_state=1)"
   ]
  },
  {
   "cell_type": "markdown",
   "metadata": {
    "id": "0H4a3x0eBtJy"
   },
   "source": [
    "**01. Multinomial Naives Bayes Model**"
   ]
  },
  {
   "cell_type": "code",
   "execution_count": 50,
   "metadata": {
    "colab": {
     "base_uri": "https://localhost:8080/"
    },
    "id": "z4xzA0_nBwk5",
    "outputId": "ef90cb8e-3b8f-461e-955b-284fbd8f422f"
   },
   "outputs": [
    {
     "name": "stdout",
     "output_type": "stream",
     "text": [
      "MultinomialNB Accuracy: 0.685\n"
     ]
    }
   ],
   "source": [
    "clf = MultinomialNB().fit(X_train, y_train)\n",
    "predicted_mlb= clf.predict(X_test)\n",
    "print(\"MultinomialNB Accuracy:\", round(metrics.accuracy_score(y_test, predicted_mlb),3))"
   ]
  },
  {
   "cell_type": "code",
   "execution_count": 51,
   "metadata": {
    "colab": {
     "base_uri": "https://localhost:8080/"
    },
    "id": "j_PsSSkNB10q",
    "outputId": "b4f9197e-f92c-4d76-a68d-6f28da149a34"
   },
   "outputs": [
    {
     "name": "stdout",
     "output_type": "stream",
     "text": [
      "Confusion Matrix: MNB\n",
      "[[2676   18    4]\n",
      " [ 767  150   23]\n",
      " [ 530   29  149]]\n"
     ]
    }
   ],
   "source": [
    "# Compute the confusion matrix\n",
    "confusion_mat_mlb = confusion_matrix(y_test, predicted_mlb)\n",
    "\n",
    "# Display the confusion matrix\n",
    "print(\"Confusion Matrix: MNB\")\n",
    "print(confusion_mat_mlb)"
   ]
  },
  {
   "cell_type": "code",
   "execution_count": 52,
   "metadata": {
    "colab": {
     "base_uri": "https://localhost:8080/",
     "height": 415
    },
    "id": "-7mdQau9B9Db",
    "outputId": "4bb53af9-3539-4eb2-9a0d-ee7c55a382ab"
   },
   "outputs": [
    {
     "data": {
      "image/png": "[encoded data removed]",
      "text/plain": [
       "<Figure size 432x288 with 2 Axes>"
      ]
     },
     "metadata": {
      "needs_background": "light"
     },
     "output_type": "display_data"
    }
   ],
   "source": [
    "# Define the labels for the rows and columns of the confusion matrix (class names)\n",
    "class_names = ['negative', 'neutral', 'positive']\n",
    "\n",
    "# Create a heatmap using seaborn\n",
    "plt.figure(figsize=(6, 4))\n",
    "sns.heatmap(confusion_mat_mlb, annot=True, fmt=\"d\", cmap=\"Blues\", xticklabels=class_names, yticklabels=class_names)\n",
    "\n",
    "# Customizing the labels, title, and axes\n",
    "plt.xlabel('Predicted Label', fontsize=12)\n",
    "plt.ylabel('True Label', fontsize=12)\n",
    "plt.title('Confusion Matrix', fontsize=14, fontweight='bold')\n",
    "\n",
    "# Show the plot\n",
    "plt.show()"
   ]
  },
  {
   "cell_type": "code",
   "execution_count": 53,
   "metadata": {},
   "outputs": [
    {
     "name": "stdout",
     "output_type": "stream",
     "text": [
      "Classification Report:\n",
      "              precision    recall  f1-score   support\n",
      "\n",
      "    negative       0.67      0.99      0.80      2698\n",
      "     neutral       0.76      0.16      0.26       940\n",
      "    positive       0.85      0.21      0.34       708\n",
      "\n",
      "    accuracy                           0.68      4346\n",
      "   macro avg       0.76      0.45      0.47      4346\n",
      "weighted avg       0.72      0.68      0.61      4346\n",
      "\n"
     ]
    }
   ],
   "source": [
    "# Classification Report\n",
    "class_report = classification_report(y_test, predicted_mlb)\n",
    "print(\"Classification Report:\")\n",
    "print(class_report)"
   ]
  },
  {
   "cell_type": "markdown",
   "metadata": {
    "id": "3jXgFtGXCC6j"
   },
   "source": [
    "**02. Random Forest Model**"
   ]
  },
  {
   "cell_type": "code",
   "execution_count": 54,
   "metadata": {
    "colab": {
     "base_uri": "https://localhost:8080/"
    },
    "id": "db7tzHcjCE-3",
    "outputId": "a8d381f6-e1ad-4d5b-d293-13968a1787fb"
   },
   "outputs": [
    {
     "name": "stdout",
     "output_type": "stream",
     "text": [
      "Random forest Accuracy: 0.748\n"
     ]
    }
   ],
   "source": [
    "# Create and train the Random Forest model\n",
    "rf_classifier = RandomForestClassifier(n_estimators=100, random_state=42)\n",
    "rf_classifier.fit(X_train, y_train)\n",
    "\n",
    "# Make predictions on the test set\n",
    "predicted_rf = rf_classifier.predict(X_test)\n",
    "print(\"Random forest Accuracy:\", round(metrics.accuracy_score(y_test, predicted_rf),3))"
   ]
  },
  {
   "cell_type": "code",
   "execution_count": 55,
   "metadata": {
    "colab": {
     "base_uri": "https://localhost:8080/"
    },
    "id": "o1TrOKzQCSGT",
    "outputId": "5d13a80b-1787-41a3-bfbb-06620b680b26"
   },
   "outputs": [
    {
     "name": "stdout",
     "output_type": "stream",
     "text": [
      "Confusion Matrix: RF\n",
      "[[2469  161   68]\n",
      " [ 454  392   94]\n",
      " [ 240   78  390]]\n"
     ]
    }
   ],
   "source": [
    "# Compute the confusion matrix\n",
    "confusion_mat_rf = confusion_matrix(y_test, predicted_rf)\n",
    "\n",
    "# Display the confusion matrix\n",
    "print(\"Confusion Matrix: RF\")\n",
    "print(confusion_mat_rf)"
   ]
  },
  {
   "cell_type": "code",
   "execution_count": 56,
   "metadata": {
    "colab": {
     "base_uri": "https://localhost:8080/",
     "height": 415
    },
    "id": "7124mSfFCZpH",
    "outputId": "49cbb7a1-df91-490b-a88f-724e41c6f552"
   },
   "outputs": [
    {
     "data": {
      "image/png": "[encoded data removed]",
      "text/plain": [
       "<Figure size 432x288 with 2 Axes>"
      ]
     },
     "metadata": {
      "needs_background": "light"
     },
     "output_type": "display_data"
    }
   ],
   "source": [
    "# Define the labels for the rows and columns of the confusion matrix (class names)\n",
    "class_names = ['negative', 'neutral', 'positive']\n",
    "\n",
    "# Create a heatmap using seaborn\n",
    "plt.figure(figsize=(6, 4))\n",
    "sns.heatmap(confusion_mat_rf, annot=True, fmt=\"d\", cmap=\"Blues\", xticklabels=class_names, yticklabels=class_names)\n",
    "\n",
    "# Customizing the labels, title, and axes\n",
    "plt.xlabel('Predicted Label', fontsize=12)\n",
    "plt.ylabel('True Label', fontsize=12)\n",
    "plt.title('Confusion Matrix', fontsize=14, fontweight='bold')\n",
    "\n",
    "# Show the plot\n",
    "plt.show()"
   ]
  },
  {
   "cell_type": "code",
   "execution_count": 57,
   "metadata": {},
   "outputs": [
    {
     "name": "stdout",
     "output_type": "stream",
     "text": [
      "Classification Report:\n",
      "              precision    recall  f1-score   support\n",
      "\n",
      "    negative       0.78      0.92      0.84      2698\n",
      "     neutral       0.62      0.42      0.50       940\n",
      "    positive       0.71      0.55      0.62       708\n",
      "\n",
      "    accuracy                           0.75      4346\n",
      "   macro avg       0.70      0.63      0.65      4346\n",
      "weighted avg       0.73      0.75      0.73      4346\n",
      "\n"
     ]
    }
   ],
   "source": [
    "# Classification Report\n",
    "class_report = classification_report(y_test, predicted_rf)\n",
    "print(\"Classification Report:\")\n",
    "print(class_report)"
   ]
  },
  {
   "cell_type": "markdown",
   "metadata": {
    "id": "pJ0jjGv4cImQ"
   },
   "source": [
    "**Lexicon Based Approach**"
   ]
  },
  {
   "cell_type": "markdown",
   "metadata": {
    "id": "vfBDwD2PCfBq"
   },
   "source": [
    "Select only the most popular airlines (Top 3)"
   ]
  },
  {
   "cell_type": "code",
   "execution_count": 58,
   "metadata": {
    "colab": {
     "base_uri": "https://localhost:8080/",
     "height": 237
    },
    "id": "_vL3cfwMc9Wa",
    "outputId": "20c16841-2dac-4703-c7cf-90cf270a0d7c"
   },
   "outputs": [
    {
     "data": {
      "text/html": [
       "<div>\n",
       "<style scoped>\n",
       "    .dataframe tbody tr th:only-of-type {\n",
       "        vertical-align: middle;\n",
       "    }\n",
       "\n",
       "    .dataframe tbody tr th {\n",
       "        vertical-align: top;\n",
       "    }\n",
       "\n",
       "    .dataframe thead th {\n",
       "        text-align: right;\n",
       "    }\n",
       "</style>\n",
       "<table border=\"1\" class=\"dataframe\">\n",
       "  <thead>\n",
       "    <tr style=\"text-align: right;\">\n",
       "      <th></th>\n",
       "      <th>index</th>\n",
       "      <th>airline</th>\n",
       "    </tr>\n",
       "  </thead>\n",
       "  <tbody>\n",
       "    <tr>\n",
       "      <th>0</th>\n",
       "      <td>United</td>\n",
       "      <td>3822</td>\n",
       "    </tr>\n",
       "    <tr>\n",
       "      <th>1</th>\n",
       "      <td>US Airways</td>\n",
       "      <td>2913</td>\n",
       "    </tr>\n",
       "    <tr>\n",
       "      <th>2</th>\n",
       "      <td>American</td>\n",
       "      <td>2604</td>\n",
       "    </tr>\n",
       "    <tr>\n",
       "      <th>3</th>\n",
       "      <td>Southwest</td>\n",
       "      <td>2420</td>\n",
       "    </tr>\n",
       "    <tr>\n",
       "      <th>4</th>\n",
       "      <td>Delta</td>\n",
       "      <td>2222</td>\n",
       "    </tr>\n",
       "    <tr>\n",
       "      <th>5</th>\n",
       "      <td>Virgin America</td>\n",
       "      <td>504</td>\n",
       "    </tr>\n",
       "  </tbody>\n",
       "</table>\n",
       "</div>"
      ],
      "text/plain": [
       "            index  airline\n",
       "0          United     3822\n",
       "1      US Airways     2913\n",
       "2        American     2604\n",
       "3       Southwest     2420\n",
       "4           Delta     2222\n",
       "5  Virgin America      504"
      ]
     },
     "execution_count": 58,
     "metadata": {},
     "output_type": "execute_result"
    }
   ],
   "source": [
    "group_counts_descending = df[\"airline\"].value_counts().sort_values(ascending=False)\n",
    "group_counts_descending = group_counts_descending.reset_index()\n",
    "group_counts_descending"
   ]
  },
  {
   "cell_type": "code",
   "execution_count": 59,
   "metadata": {
    "colab": {
     "base_uri": "https://localhost:8080/"
    },
    "id": "Ln7mQP_ZCo0k",
    "outputId": "eea66008-8490-4c58-81cf-0c0faa4fe393"
   },
   "outputs": [
    {
     "data": {
      "text/plain": [
       "['United', 'US Airways', 'American']"
      ]
     },
     "execution_count": 59,
     "metadata": {},
     "output_type": "execute_result"
    }
   ],
   "source": [
    "airline_companies = group_counts_descending['index'].to_list()\n",
    "airline_companies_top3 = airline_companies[:3]\n",
    "airline_companies_top3"
   ]
  },
  {
   "cell_type": "code",
   "execution_count": 60,
   "metadata": {
    "colab": {
     "base_uri": "https://localhost:8080/",
     "height": 423
    },
    "id": "4JKFL7l5Cvo7",
    "outputId": "bceef919-4618-4d7e-fea9-de816a6e33f0"
   },
   "outputs": [
    {
     "data": {
      "text/html": [
       "<div>\n",
       "<style scoped>\n",
       "    .dataframe tbody tr th:only-of-type {\n",
       "        vertical-align: middle;\n",
       "    }\n",
       "\n",
       "    .dataframe tbody tr th {\n",
       "        vertical-align: top;\n",
       "    }\n",
       "\n",
       "    .dataframe thead th {\n",
       "        text-align: right;\n",
       "    }\n",
       "</style>\n",
       "<table border=\"1\" class=\"dataframe\">\n",
       "  <thead>\n",
       "    <tr style=\"text-align: right;\">\n",
       "      <th></th>\n",
       "      <th>airline</th>\n",
       "      <th>airline_sentiment</th>\n",
       "      <th>text</th>\n",
       "    </tr>\n",
       "  </thead>\n",
       "  <tbody>\n",
       "    <tr>\n",
       "      <th>0</th>\n",
       "      <td>United</td>\n",
       "      <td>positive</td>\n",
       "      <td>@united thanks</td>\n",
       "    </tr>\n",
       "    <tr>\n",
       "      <th>1</th>\n",
       "      <td>United</td>\n",
       "      <td>positive</td>\n",
       "      <td>@united Thanks for taking care of that MR!! Ha...</td>\n",
       "    </tr>\n",
       "    <tr>\n",
       "      <th>2</th>\n",
       "      <td>United</td>\n",
       "      <td>negative</td>\n",
       "      <td>@united still no refund or word via DM. Please...</td>\n",
       "    </tr>\n",
       "    <tr>\n",
       "      <th>3</th>\n",
       "      <td>United</td>\n",
       "      <td>negative</td>\n",
       "      <td>@united Delayed due to lack of crew and now de...</td>\n",
       "    </tr>\n",
       "    <tr>\n",
       "      <th>4</th>\n",
       "      <td>United</td>\n",
       "      <td>positive</td>\n",
       "      <td>@united thanks -- we filled it out. How's our ...</td>\n",
       "    </tr>\n",
       "    <tr>\n",
       "      <th>...</th>\n",
       "      <td>...</td>\n",
       "      <td>...</td>\n",
       "      <td>...</td>\n",
       "    </tr>\n",
       "    <tr>\n",
       "      <th>9334</th>\n",
       "      <td>American</td>\n",
       "      <td>positive</td>\n",
       "      <td>@AmericanAir thank you we got on a different f...</td>\n",
       "    </tr>\n",
       "    <tr>\n",
       "      <th>9335</th>\n",
       "      <td>American</td>\n",
       "      <td>negative</td>\n",
       "      <td>@AmericanAir leaving over 20 minutes Late Flig...</td>\n",
       "    </tr>\n",
       "    <tr>\n",
       "      <th>9336</th>\n",
       "      <td>American</td>\n",
       "      <td>neutral</td>\n",
       "      <td>@AmericanAir Please bring American Airlines to...</td>\n",
       "    </tr>\n",
       "    <tr>\n",
       "      <th>9337</th>\n",
       "      <td>American</td>\n",
       "      <td>negative</td>\n",
       "      <td>@AmericanAir you have my money, you change my ...</td>\n",
       "    </tr>\n",
       "    <tr>\n",
       "      <th>9338</th>\n",
       "      <td>American</td>\n",
       "      <td>neutral</td>\n",
       "      <td>@AmericanAir we have 8 ppl so we need 2 know h...</td>\n",
       "    </tr>\n",
       "  </tbody>\n",
       "</table>\n",
       "<p>9339 rows × 3 columns</p>\n",
       "</div>"
      ],
      "text/plain": [
       "       airline airline_sentiment  \\\n",
       "0       United          positive   \n",
       "1       United          positive   \n",
       "2       United          negative   \n",
       "3       United          negative   \n",
       "4       United          positive   \n",
       "...        ...               ...   \n",
       "9334  American          positive   \n",
       "9335  American          negative   \n",
       "9336  American           neutral   \n",
       "9337  American          negative   \n",
       "9338  American           neutral   \n",
       "\n",
       "                                                   text  \n",
       "0                                        @united thanks  \n",
       "1     @united Thanks for taking care of that MR!! Ha...  \n",
       "2     @united still no refund or word via DM. Please...  \n",
       "3     @united Delayed due to lack of crew and now de...  \n",
       "4     @united thanks -- we filled it out. How's our ...  \n",
       "...                                                 ...  \n",
       "9334  @AmericanAir thank you we got on a different f...  \n",
       "9335  @AmericanAir leaving over 20 minutes Late Flig...  \n",
       "9336  @AmericanAir Please bring American Airlines to...  \n",
       "9337  @AmericanAir you have my money, you change my ...  \n",
       "9338  @AmericanAir we have 8 ppl so we need 2 know h...  \n",
       "\n",
       "[9339 rows x 3 columns]"
      ]
     },
     "execution_count": 60,
     "metadata": {},
     "output_type": "execute_result"
    }
   ],
   "source": [
    "df_task04 = df[df['airline'].isin(airline_companies_top3)]\n",
    "df_task04 = df_task04[['airline' ,'airline_sentiment', 'text']]\n",
    "df_task04 = df_task04.reset_index()\n",
    "df_task04 = df_task04.drop(columns = 'index')\n",
    "df_task04"
   ]
  },
  {
   "cell_type": "code",
   "execution_count": 61,
   "metadata": {
    "id": "QqZtkANbC6A7"
   },
   "outputs": [],
   "source": [
    "porter = PorterStemmer()\n",
    "\n",
    "documents = df_task04['text']\n",
    "Cleaned_doc = []\n",
    "for r in range(len(documents)):\n",
    "    review = documents[r]\n",
    "    try:\n",
    "\n",
    "        # Remove phrases starts with 'https'\n",
    "        review = re.sub(r'http://\\S+|https://\\S+', '', review)\n",
    "\n",
    "        # Remove emails\n",
    "        review = re.sub(r'[\\w\\.-]+@[\\w\\.-]+', '', review)\n",
    "\n",
    "        # Removing everything except alphabets\n",
    "        review = re.sub('[^A-Za-z]', ' ', review)\n",
    "\n",
    "        # Make all text lowercase\n",
    "        review = review.lower()\n",
    "\n",
    "        words_to_remove = ['virginamerica', 'united', 'southwestair','jetblue','usairways','americanair']\n",
    "        pattern = r'\\b(?:' + '|'.join(re.escape(word) for word in words_to_remove) + r')\\b'\n",
    "        review = re.sub(pattern, '', review)\n",
    "\n",
    "        # Apply tokenization\n",
    "        Tokens = review.split()\n",
    "\n",
    "        # Removing short words\n",
    "        Filtered_token = [w for w in Tokens if len(w)>3]\n",
    "        review = ' '.join(Filtered_token)\n",
    "\n",
    "    except:\n",
    "        continue\n",
    "    Cleaned_doc.append(review)"
   ]
  },
  {
   "cell_type": "code",
   "execution_count": 62,
   "metadata": {
    "colab": {
     "base_uri": "https://localhost:8080/",
     "height": 423
    },
    "id": "p1zf0vVFDEw9",
    "outputId": "8250dcc9-bc78-4991-e3a7-d3d24509b947"
   },
   "outputs": [
    {
     "data": {
      "text/html": [
       "<div>\n",
       "<style scoped>\n",
       "    .dataframe tbody tr th:only-of-type {\n",
       "        vertical-align: middle;\n",
       "    }\n",
       "\n",
       "    .dataframe tbody tr th {\n",
       "        vertical-align: top;\n",
       "    }\n",
       "\n",
       "    .dataframe thead th {\n",
       "        text-align: right;\n",
       "    }\n",
       "</style>\n",
       "<table border=\"1\" class=\"dataframe\">\n",
       "  <thead>\n",
       "    <tr style=\"text-align: right;\">\n",
       "      <th></th>\n",
       "      <th>airline</th>\n",
       "      <th>airline_sentiment</th>\n",
       "      <th>text</th>\n",
       "      <th>Cleaned_text</th>\n",
       "    </tr>\n",
       "  </thead>\n",
       "  <tbody>\n",
       "    <tr>\n",
       "      <th>0</th>\n",
       "      <td>United</td>\n",
       "      <td>positive</td>\n",
       "      <td>@united thanks</td>\n",
       "      <td>thanks</td>\n",
       "    </tr>\n",
       "    <tr>\n",
       "      <th>1</th>\n",
       "      <td>United</td>\n",
       "      <td>positive</td>\n",
       "      <td>@united Thanks for taking care of that MR!! Ha...</td>\n",
       "      <td>thanks taking care happy customer</td>\n",
       "    </tr>\n",
       "    <tr>\n",
       "      <th>2</th>\n",
       "      <td>United</td>\n",
       "      <td>negative</td>\n",
       "      <td>@united still no refund or word via DM. Please...</td>\n",
       "      <td>still refund word please resolve issue cancell...</td>\n",
       "    </tr>\n",
       "    <tr>\n",
       "      <th>3</th>\n",
       "      <td>United</td>\n",
       "      <td>negative</td>\n",
       "      <td>@united Delayed due to lack of crew and now de...</td>\n",
       "      <td>delayed lack crew delayed long line deicing st...</td>\n",
       "    </tr>\n",
       "    <tr>\n",
       "      <th>4</th>\n",
       "      <td>United</td>\n",
       "      <td>positive</td>\n",
       "      <td>@united thanks -- we filled it out. How's our ...</td>\n",
       "      <td>thanks filled luck common</td>\n",
       "    </tr>\n",
       "    <tr>\n",
       "      <th>...</th>\n",
       "      <td>...</td>\n",
       "      <td>...</td>\n",
       "      <td>...</td>\n",
       "      <td>...</td>\n",
       "    </tr>\n",
       "    <tr>\n",
       "      <th>9334</th>\n",
       "      <td>American</td>\n",
       "      <td>positive</td>\n",
       "      <td>@AmericanAir thank you we got on a different f...</td>\n",
       "      <td>thank different flight chicago</td>\n",
       "    </tr>\n",
       "    <tr>\n",
       "      <th>9335</th>\n",
       "      <td>American</td>\n",
       "      <td>negative</td>\n",
       "      <td>@AmericanAir leaving over 20 minutes Late Flig...</td>\n",
       "      <td>leaving minutes late flight warnings communica...</td>\n",
       "    </tr>\n",
       "    <tr>\n",
       "      <th>9336</th>\n",
       "      <td>American</td>\n",
       "      <td>neutral</td>\n",
       "      <td>@AmericanAir Please bring American Airlines to...</td>\n",
       "      <td>please bring american airlines blackberry</td>\n",
       "    </tr>\n",
       "    <tr>\n",
       "      <th>9337</th>\n",
       "      <td>American</td>\n",
       "      <td>negative</td>\n",
       "      <td>@AmericanAir you have my money, you change my ...</td>\n",
       "      <td>money change flight answer phones suggestions ...</td>\n",
       "    </tr>\n",
       "    <tr>\n",
       "      <th>9338</th>\n",
       "      <td>American</td>\n",
       "      <td>neutral</td>\n",
       "      <td>@AmericanAir we have 8 ppl so we need 2 know h...</td>\n",
       "      <td>need know many seats next flight standby peopl...</td>\n",
       "    </tr>\n",
       "  </tbody>\n",
       "</table>\n",
       "<p>9339 rows × 4 columns</p>\n",
       "</div>"
      ],
      "text/plain": [
       "       airline airline_sentiment  \\\n",
       "0       United          positive   \n",
       "1       United          positive   \n",
       "2       United          negative   \n",
       "3       United          negative   \n",
       "4       United          positive   \n",
       "...        ...               ...   \n",
       "9334  American          positive   \n",
       "9335  American          negative   \n",
       "9336  American           neutral   \n",
       "9337  American          negative   \n",
       "9338  American           neutral   \n",
       "\n",
       "                                                   text  \\\n",
       "0                                        @united thanks   \n",
       "1     @united Thanks for taking care of that MR!! Ha...   \n",
       "2     @united still no refund or word via DM. Please...   \n",
       "3     @united Delayed due to lack of crew and now de...   \n",
       "4     @united thanks -- we filled it out. How's our ...   \n",
       "...                                                 ...   \n",
       "9334  @AmericanAir thank you we got on a different f...   \n",
       "9335  @AmericanAir leaving over 20 minutes Late Flig...   \n",
       "9336  @AmericanAir Please bring American Airlines to...   \n",
       "9337  @AmericanAir you have my money, you change my ...   \n",
       "9338  @AmericanAir we have 8 ppl so we need 2 know h...   \n",
       "\n",
       "                                           Cleaned_text  \n",
       "0                                                thanks  \n",
       "1                     thanks taking care happy customer  \n",
       "2     still refund word please resolve issue cancell...  \n",
       "3     delayed lack crew delayed long line deicing st...  \n",
       "4                             thanks filled luck common  \n",
       "...                                                 ...  \n",
       "9334                     thank different flight chicago  \n",
       "9335  leaving minutes late flight warnings communica...  \n",
       "9336          please bring american airlines blackberry  \n",
       "9337  money change flight answer phones suggestions ...  \n",
       "9338  need know many seats next flight standby peopl...  \n",
       "\n",
       "[9339 rows x 4 columns]"
      ]
     },
     "execution_count": 62,
     "metadata": {},
     "output_type": "execute_result"
    }
   ],
   "source": [
    "stop_words = stopwords.words('english')\n",
    "\n",
    "# Remove Stop Words\n",
    "for r in range(len(Cleaned_doc)):\n",
    "    each_item = []\n",
    "    for t in Cleaned_doc[r].split():\n",
    "        if t not in stop_words:\n",
    "             each_item.append(t)\n",
    "    Cleaned_doc[r] = ' '.join(each_item)\n",
    "\n",
    "df_task04['Cleaned_text'] = Cleaned_doc\n",
    "df_task04"
   ]
  },
  {
   "cell_type": "code",
   "execution_count": 63,
   "metadata": {
    "colab": {
     "base_uri": "https://localhost:8080/",
     "height": 423
    },
    "id": "tik2g4eqDIk1",
    "outputId": "97871308-e0ad-41cc-fead-192d1ac9242f"
   },
   "outputs": [
    {
     "data": {
      "text/html": [
       "<div>\n",
       "<style scoped>\n",
       "    .dataframe tbody tr th:only-of-type {\n",
       "        vertical-align: middle;\n",
       "    }\n",
       "\n",
       "    .dataframe tbody tr th {\n",
       "        vertical-align: top;\n",
       "    }\n",
       "\n",
       "    .dataframe thead th {\n",
       "        text-align: right;\n",
       "    }\n",
       "</style>\n",
       "<table border=\"1\" class=\"dataframe\">\n",
       "  <thead>\n",
       "    <tr style=\"text-align: right;\">\n",
       "      <th></th>\n",
       "      <th>airline</th>\n",
       "      <th>airline_sentiment</th>\n",
       "      <th>text</th>\n",
       "      <th>Cleaned_text</th>\n",
       "      <th>sentiment_score</th>\n",
       "      <th>sentiment_label</th>\n",
       "    </tr>\n",
       "  </thead>\n",
       "  <tbody>\n",
       "    <tr>\n",
       "      <th>0</th>\n",
       "      <td>United</td>\n",
       "      <td>positive</td>\n",
       "      <td>@united thanks</td>\n",
       "      <td>thanks</td>\n",
       "      <td>0.4404</td>\n",
       "      <td>positive</td>\n",
       "    </tr>\n",
       "    <tr>\n",
       "      <th>1</th>\n",
       "      <td>United</td>\n",
       "      <td>positive</td>\n",
       "      <td>@united Thanks for taking care of that MR!! Ha...</td>\n",
       "      <td>thanks taking care happy customer</td>\n",
       "      <td>0.8689</td>\n",
       "      <td>positive</td>\n",
       "    </tr>\n",
       "    <tr>\n",
       "      <th>2</th>\n",
       "      <td>United</td>\n",
       "      <td>negative</td>\n",
       "      <td>@united still no refund or word via DM. Please...</td>\n",
       "      <td>still refund word please resolve issue cancell...</td>\n",
       "      <td>0.0258</td>\n",
       "      <td>positive</td>\n",
       "    </tr>\n",
       "    <tr>\n",
       "      <th>3</th>\n",
       "      <td>United</td>\n",
       "      <td>negative</td>\n",
       "      <td>@united Delayed due to lack of crew and now de...</td>\n",
       "      <td>delayed lack crew delayed long line deicing st...</td>\n",
       "      <td>-0.2960</td>\n",
       "      <td>negative</td>\n",
       "    </tr>\n",
       "    <tr>\n",
       "      <th>4</th>\n",
       "      <td>United</td>\n",
       "      <td>positive</td>\n",
       "      <td>@united thanks -- we filled it out. How's our ...</td>\n",
       "      <td>thanks filled luck common</td>\n",
       "      <td>0.7096</td>\n",
       "      <td>positive</td>\n",
       "    </tr>\n",
       "    <tr>\n",
       "      <th>...</th>\n",
       "      <td>...</td>\n",
       "      <td>...</td>\n",
       "      <td>...</td>\n",
       "      <td>...</td>\n",
       "      <td>...</td>\n",
       "      <td>...</td>\n",
       "    </tr>\n",
       "    <tr>\n",
       "      <th>9334</th>\n",
       "      <td>American</td>\n",
       "      <td>positive</td>\n",
       "      <td>@AmericanAir thank you we got on a different f...</td>\n",
       "      <td>thank different flight chicago</td>\n",
       "      <td>0.3612</td>\n",
       "      <td>positive</td>\n",
       "    </tr>\n",
       "    <tr>\n",
       "      <th>9335</th>\n",
       "      <td>American</td>\n",
       "      <td>negative</td>\n",
       "      <td>@AmericanAir leaving over 20 minutes Late Flig...</td>\n",
       "      <td>leaving minutes late flight warnings communica...</td>\n",
       "      <td>-0.7003</td>\n",
       "      <td>negative</td>\n",
       "    </tr>\n",
       "    <tr>\n",
       "      <th>9336</th>\n",
       "      <td>American</td>\n",
       "      <td>neutral</td>\n",
       "      <td>@AmericanAir Please bring American Airlines to...</td>\n",
       "      <td>please bring american airlines blackberry</td>\n",
       "      <td>0.3182</td>\n",
       "      <td>positive</td>\n",
       "    </tr>\n",
       "    <tr>\n",
       "      <th>9337</th>\n",
       "      <td>American</td>\n",
       "      <td>negative</td>\n",
       "      <td>@AmericanAir you have my money, you change my ...</td>\n",
       "      <td>money change flight answer phones suggestions ...</td>\n",
       "      <td>0.3818</td>\n",
       "      <td>positive</td>\n",
       "    </tr>\n",
       "    <tr>\n",
       "      <th>9338</th>\n",
       "      <td>American</td>\n",
       "      <td>neutral</td>\n",
       "      <td>@AmericanAir we have 8 ppl so we need 2 know h...</td>\n",
       "      <td>need know many seats next flight standby peopl...</td>\n",
       "      <td>0.0000</td>\n",
       "      <td>neutral</td>\n",
       "    </tr>\n",
       "  </tbody>\n",
       "</table>\n",
       "<p>9339 rows × 6 columns</p>\n",
       "</div>"
      ],
      "text/plain": [
       "       airline airline_sentiment  \\\n",
       "0       United          positive   \n",
       "1       United          positive   \n",
       "2       United          negative   \n",
       "3       United          negative   \n",
       "4       United          positive   \n",
       "...        ...               ...   \n",
       "9334  American          positive   \n",
       "9335  American          negative   \n",
       "9336  American           neutral   \n",
       "9337  American          negative   \n",
       "9338  American           neutral   \n",
       "\n",
       "                                                   text  \\\n",
       "0                                        @united thanks   \n",
       "1     @united Thanks for taking care of that MR!! Ha...   \n",
       "2     @united still no refund or word via DM. Please...   \n",
       "3     @united Delayed due to lack of crew and now de...   \n",
       "4     @united thanks -- we filled it out. How's our ...   \n",
       "...                                                 ...   \n",
       "9334  @AmericanAir thank you we got on a different f...   \n",
       "9335  @AmericanAir leaving over 20 minutes Late Flig...   \n",
       "9336  @AmericanAir Please bring American Airlines to...   \n",
       "9337  @AmericanAir you have my money, you change my ...   \n",
       "9338  @AmericanAir we have 8 ppl so we need 2 know h...   \n",
       "\n",
       "                                           Cleaned_text  sentiment_score  \\\n",
       "0                                                thanks           0.4404   \n",
       "1                     thanks taking care happy customer           0.8689   \n",
       "2     still refund word please resolve issue cancell...           0.0258   \n",
       "3     delayed lack crew delayed long line deicing st...          -0.2960   \n",
       "4                             thanks filled luck common           0.7096   \n",
       "...                                                 ...              ...   \n",
       "9334                     thank different flight chicago           0.3612   \n",
       "9335  leaving minutes late flight warnings communica...          -0.7003   \n",
       "9336          please bring american airlines blackberry           0.3182   \n",
       "9337  money change flight answer phones suggestions ...           0.3818   \n",
       "9338  need know many seats next flight standby peopl...           0.0000   \n",
       "\n",
       "     sentiment_label  \n",
       "0           positive  \n",
       "1           positive  \n",
       "2           positive  \n",
       "3           negative  \n",
       "4           positive  \n",
       "...              ...  \n",
       "9334        positive  \n",
       "9335        negative  \n",
       "9336        positive  \n",
       "9337        positive  \n",
       "9338         neutral  \n",
       "\n",
       "[9339 rows x 6 columns]"
      ]
     },
     "execution_count": 63,
     "metadata": {},
     "output_type": "execute_result"
    }
   ],
   "source": [
    "# Initialize the Sentiment Intensity Analyzer\n",
    "sia = SentimentIntensityAnalyzer()\n",
    "\n",
    "# Perform sentiment analysis and store the results in new columns\n",
    "df_task04['sentiment_score'] = df_task04['Cleaned_text'].apply(lambda text: sia.polarity_scores(text)['compound'])\n",
    "\n",
    "# Define a function to assign sentiment labels based on the sentiment score\n",
    "def get_sentiment_label(score):\n",
    "    if score > 0:\n",
    "        return 'positive'\n",
    "    elif score == 0:\n",
    "        return 'neutral'\n",
    "    else:\n",
    "        return 'negative'\n",
    "\n",
    "df_task04['sentiment_label'] = df_task04['sentiment_score'].apply(get_sentiment_label)\n",
    "\n",
    "# Analyze the results\n",
    "df_task04"
   ]
  },
  {
   "cell_type": "code",
   "execution_count": 64,
   "metadata": {
    "colab": {
     "base_uri": "https://localhost:8080/",
     "height": 607
    },
    "id": "ALxi5nV6DP0y",
    "outputId": "61a261c0-f86b-412c-decc-18727a21e27f"
   },
   "outputs": [
    {
     "data": {
      "image/png": "[encoded data removed]",
      "text/plain": [
       "<Figure size 576x432 with 1 Axes>"
      ]
     },
     "metadata": {
      "needs_background": "light"
     },
     "output_type": "display_data"
    }
   ],
   "source": [
    "pclass_counts = df_task04['airline'].value_counts()\n",
    "positive_cls = df_task04[df_task04['sentiment_label'] == 'positive']['airline'].value_counts() / pclass_counts * 100\n",
    "negative_cls = df_task04[df_task04['sentiment_label'] == 'negative']['airline'].value_counts() / pclass_counts * 100\n",
    "\n",
    "# Create a DataFrame to hold the calculated percentages\n",
    "percentage_df = pd.DataFrame({'positive_class': positive_cls, 'negative_class': negative_cls})\n",
    "\n",
    "# Plot the bar graph with percentages\n",
    "ax = percentage_df.plot(kind='bar', stacked=True, color=['#1f77b4', '#ff7f0e'], width=0.7, figsize=(8, 6))\n",
    "\n",
    "# Set the y-axis label to \"Percentage\"\n",
    "ax.set_ylabel(\"Percentage\")\n",
    "\n",
    "# Set the plot title and x-axis label\n",
    "ax.set_title(\"Sentiment label (Using lexicon-based sentiment analysis approach) count by top 3 airlines\")\n",
    "ax.set_xlabel(\"Airline\")\n",
    "\n",
    "# Calculate the cumulative heights for annotation placement\n",
    "cumulative_heights = [0] * len(percentage_df.index)\n",
    "for p in ax.patches:\n",
    "    percentage = f\"{p.get_height():.2f}%\"\n",
    "    x = p.get_x() + p.get_width() / 2\n",
    "    y = p.get_height() / 2 + cumulative_heights[int(x)]\n",
    "    cumulative_heights[int(x)] += p.get_height()\n",
    "    ax.annotate(percentage, (x, y), ha='center', va='center', fontsize=12, color='white')\n",
    "\n",
    "# Customize legend\n",
    "ax.legend(title='Sentiment', title_fontsize=12, loc='upper left')\n",
    "\n",
    "# Remove top and right spines\n",
    "ax.spines['top'].set_visible(False)\n",
    "ax.spines['right'].set_visible(False)\n",
    "\n",
    "# Show the plot\n",
    "plt.tight_layout()\n",
    "plt.show()"
   ]
  },
  {
   "cell_type": "code",
   "execution_count": 65,
   "metadata": {},
   "outputs": [
    {
     "data": {
      "text/html": [
       "<div>\n",
       "<style scoped>\n",
       "    .dataframe tbody tr th:only-of-type {\n",
       "        vertical-align: middle;\n",
       "    }\n",
       "\n",
       "    .dataframe tbody tr th {\n",
       "        vertical-align: top;\n",
       "    }\n",
       "\n",
       "    .dataframe thead th {\n",
       "        text-align: right;\n",
       "    }\n",
       "</style>\n",
       "<table border=\"1\" class=\"dataframe\">\n",
       "  <thead>\n",
       "    <tr style=\"text-align: right;\">\n",
       "      <th></th>\n",
       "      <th>airline</th>\n",
       "      <th>airline_sentiment</th>\n",
       "      <th>text</th>\n",
       "      <th>Cleaned_text</th>\n",
       "      <th>sentiment_score</th>\n",
       "      <th>sentiment_label</th>\n",
       "    </tr>\n",
       "  </thead>\n",
       "  <tbody>\n",
       "    <tr>\n",
       "      <th>0</th>\n",
       "      <td>United</td>\n",
       "      <td>positive</td>\n",
       "      <td>@united thanks</td>\n",
       "      <td>thanks</td>\n",
       "      <td>0.4404</td>\n",
       "      <td>positive</td>\n",
       "    </tr>\n",
       "    <tr>\n",
       "      <th>1</th>\n",
       "      <td>United</td>\n",
       "      <td>positive</td>\n",
       "      <td>@united Thanks for taking care of that MR!! Ha...</td>\n",
       "      <td>thanks taking care happy customer</td>\n",
       "      <td>0.8689</td>\n",
       "      <td>positive</td>\n",
       "    </tr>\n",
       "    <tr>\n",
       "      <th>2</th>\n",
       "      <td>United</td>\n",
       "      <td>negative</td>\n",
       "      <td>@united still no refund or word via DM. Please...</td>\n",
       "      <td>still refund word please resolve issue cancell...</td>\n",
       "      <td>0.0258</td>\n",
       "      <td>positive</td>\n",
       "    </tr>\n",
       "    <tr>\n",
       "      <th>3</th>\n",
       "      <td>United</td>\n",
       "      <td>negative</td>\n",
       "      <td>@united Delayed due to lack of crew and now de...</td>\n",
       "      <td>delayed lack crew delayed long line deicing st...</td>\n",
       "      <td>-0.2960</td>\n",
       "      <td>negative</td>\n",
       "    </tr>\n",
       "    <tr>\n",
       "      <th>4</th>\n",
       "      <td>United</td>\n",
       "      <td>positive</td>\n",
       "      <td>@united thanks -- we filled it out. How's our ...</td>\n",
       "      <td>thanks filled luck common</td>\n",
       "      <td>0.7096</td>\n",
       "      <td>positive</td>\n",
       "    </tr>\n",
       "    <tr>\n",
       "      <th>...</th>\n",
       "      <td>...</td>\n",
       "      <td>...</td>\n",
       "      <td>...</td>\n",
       "      <td>...</td>\n",
       "      <td>...</td>\n",
       "      <td>...</td>\n",
       "    </tr>\n",
       "    <tr>\n",
       "      <th>9334</th>\n",
       "      <td>American</td>\n",
       "      <td>positive</td>\n",
       "      <td>@AmericanAir thank you we got on a different f...</td>\n",
       "      <td>thank different flight chicago</td>\n",
       "      <td>0.3612</td>\n",
       "      <td>positive</td>\n",
       "    </tr>\n",
       "    <tr>\n",
       "      <th>9335</th>\n",
       "      <td>American</td>\n",
       "      <td>negative</td>\n",
       "      <td>@AmericanAir leaving over 20 minutes Late Flig...</td>\n",
       "      <td>leaving minutes late flight warnings communica...</td>\n",
       "      <td>-0.7003</td>\n",
       "      <td>negative</td>\n",
       "    </tr>\n",
       "    <tr>\n",
       "      <th>9336</th>\n",
       "      <td>American</td>\n",
       "      <td>neutral</td>\n",
       "      <td>@AmericanAir Please bring American Airlines to...</td>\n",
       "      <td>please bring american airlines blackberry</td>\n",
       "      <td>0.3182</td>\n",
       "      <td>positive</td>\n",
       "    </tr>\n",
       "    <tr>\n",
       "      <th>9337</th>\n",
       "      <td>American</td>\n",
       "      <td>negative</td>\n",
       "      <td>@AmericanAir you have my money, you change my ...</td>\n",
       "      <td>money change flight answer phones suggestions ...</td>\n",
       "      <td>0.3818</td>\n",
       "      <td>positive</td>\n",
       "    </tr>\n",
       "    <tr>\n",
       "      <th>9338</th>\n",
       "      <td>American</td>\n",
       "      <td>neutral</td>\n",
       "      <td>@AmericanAir we have 8 ppl so we need 2 know h...</td>\n",
       "      <td>need know many seats next flight standby peopl...</td>\n",
       "      <td>0.0000</td>\n",
       "      <td>neutral</td>\n",
       "    </tr>\n",
       "  </tbody>\n",
       "</table>\n",
       "<p>9339 rows × 6 columns</p>\n",
       "</div>"
      ],
      "text/plain": [
       "       airline airline_sentiment  \\\n",
       "0       United          positive   \n",
       "1       United          positive   \n",
       "2       United          negative   \n",
       "3       United          negative   \n",
       "4       United          positive   \n",
       "...        ...               ...   \n",
       "9334  American          positive   \n",
       "9335  American          negative   \n",
       "9336  American           neutral   \n",
       "9337  American          negative   \n",
       "9338  American           neutral   \n",
       "\n",
       "                                                   text  \\\n",
       "0                                        @united thanks   \n",
       "1     @united Thanks for taking care of that MR!! Ha...   \n",
       "2     @united still no refund or word via DM. Please...   \n",
       "3     @united Delayed due to lack of crew and now de...   \n",
       "4     @united thanks -- we filled it out. How's our ...   \n",
       "...                                                 ...   \n",
       "9334  @AmericanAir thank you we got on a different f...   \n",
       "9335  @AmericanAir leaving over 20 minutes Late Flig...   \n",
       "9336  @AmericanAir Please bring American Airlines to...   \n",
       "9337  @AmericanAir you have my money, you change my ...   \n",
       "9338  @AmericanAir we have 8 ppl so we need 2 know h...   \n",
       "\n",
       "                                           Cleaned_text  sentiment_score  \\\n",
       "0                                                thanks           0.4404   \n",
       "1                     thanks taking care happy customer           0.8689   \n",
       "2     still refund word please resolve issue cancell...           0.0258   \n",
       "3     delayed lack crew delayed long line deicing st...          -0.2960   \n",
       "4                             thanks filled luck common           0.7096   \n",
       "...                                                 ...              ...   \n",
       "9334                     thank different flight chicago           0.3612   \n",
       "9335  leaving minutes late flight warnings communica...          -0.7003   \n",
       "9336          please bring american airlines blackberry           0.3182   \n",
       "9337  money change flight answer phones suggestions ...           0.3818   \n",
       "9338  need know many seats next flight standby peopl...           0.0000   \n",
       "\n",
       "     sentiment_label  \n",
       "0           positive  \n",
       "1           positive  \n",
       "2           positive  \n",
       "3           negative  \n",
       "4           positive  \n",
       "...              ...  \n",
       "9334        positive  \n",
       "9335        negative  \n",
       "9336        positive  \n",
       "9337        positive  \n",
       "9338         neutral  \n",
       "\n",
       "[9339 rows x 6 columns]"
      ]
     },
     "execution_count": 65,
     "metadata": {},
     "output_type": "execute_result"
    }
   ],
   "source": [
    "df_task04"
   ]
  },
  {
   "cell_type": "code",
   "execution_count": 66,
   "metadata": {},
   "outputs": [
    {
     "data": {
      "text/html": [
       "<div>\n",
       "<style scoped>\n",
       "    .dataframe tbody tr th:only-of-type {\n",
       "        vertical-align: middle;\n",
       "    }\n",
       "\n",
       "    .dataframe tbody tr th {\n",
       "        vertical-align: top;\n",
       "    }\n",
       "\n",
       "    .dataframe thead th {\n",
       "        text-align: right;\n",
       "    }\n",
       "</style>\n",
       "<table border=\"1\" class=\"dataframe\">\n",
       "  <thead>\n",
       "    <tr style=\"text-align: right;\">\n",
       "      <th></th>\n",
       "      <th>airline</th>\n",
       "      <th>sentiment_label</th>\n",
       "      <th>count</th>\n",
       "    </tr>\n",
       "  </thead>\n",
       "  <tbody>\n",
       "    <tr>\n",
       "      <th>0</th>\n",
       "      <td>American</td>\n",
       "      <td>negative</td>\n",
       "      <td>876</td>\n",
       "    </tr>\n",
       "    <tr>\n",
       "      <th>1</th>\n",
       "      <td>American</td>\n",
       "      <td>neutral</td>\n",
       "      <td>643</td>\n",
       "    </tr>\n",
       "    <tr>\n",
       "      <th>2</th>\n",
       "      <td>American</td>\n",
       "      <td>positive</td>\n",
       "      <td>1085</td>\n",
       "    </tr>\n",
       "    <tr>\n",
       "      <th>3</th>\n",
       "      <td>US Airways</td>\n",
       "      <td>negative</td>\n",
       "      <td>1056</td>\n",
       "    </tr>\n",
       "    <tr>\n",
       "      <th>4</th>\n",
       "      <td>US Airways</td>\n",
       "      <td>neutral</td>\n",
       "      <td>706</td>\n",
       "    </tr>\n",
       "    <tr>\n",
       "      <th>5</th>\n",
       "      <td>US Airways</td>\n",
       "      <td>positive</td>\n",
       "      <td>1151</td>\n",
       "    </tr>\n",
       "    <tr>\n",
       "      <th>6</th>\n",
       "      <td>United</td>\n",
       "      <td>negative</td>\n",
       "      <td>1275</td>\n",
       "    </tr>\n",
       "    <tr>\n",
       "      <th>7</th>\n",
       "      <td>United</td>\n",
       "      <td>neutral</td>\n",
       "      <td>955</td>\n",
       "    </tr>\n",
       "    <tr>\n",
       "      <th>8</th>\n",
       "      <td>United</td>\n",
       "      <td>positive</td>\n",
       "      <td>1592</td>\n",
       "    </tr>\n",
       "  </tbody>\n",
       "</table>\n",
       "</div>"
      ],
      "text/plain": [
       "      airline sentiment_label  count\n",
       "0    American        negative    876\n",
       "1    American         neutral    643\n",
       "2    American        positive   1085\n",
       "3  US Airways        negative   1056\n",
       "4  US Airways         neutral    706\n",
       "5  US Airways        positive   1151\n",
       "6      United        negative   1275\n",
       "7      United         neutral    955\n",
       "8      United        positive   1592"
      ]
     },
     "execution_count": 66,
     "metadata": {},
     "output_type": "execute_result"
    }
   ],
   "source": [
    "sentiment_airline = df_task04.groupby([\"airline\", \"sentiment_label\"]).size().reset_index(name=\"count\")\n",
    "sentiment_airline"
   ]
  },
  {
   "cell_type": "markdown",
   "metadata": {
    "id": "oDGk9oyJs2Vk"
   },
   "source": [
    "<a id = \"cell_TopicModeling\"></a>\n",
    "### 4. Topic Modeling\n"
   ]
  },
  {
   "cell_type": "markdown",
   "metadata": {
    "id": "ZxcKWlFBDvhZ"
   },
   "source": [
    "Select only the required columns"
   ]
  },
  {
   "cell_type": "code",
   "execution_count": 67,
   "metadata": {
    "colab": {
     "base_uri": "https://localhost:8080/",
     "height": 423
    },
    "id": "6WBdMWQ1D0G4",
    "outputId": "b6c2d120-00de-41ad-fb97-4d8932d0fcd1"
   },
   "outputs": [
    {
     "data": {
      "text/html": [
       "<div>\n",
       "<style scoped>\n",
       "    .dataframe tbody tr th:only-of-type {\n",
       "        vertical-align: middle;\n",
       "    }\n",
       "\n",
       "    .dataframe tbody tr th {\n",
       "        vertical-align: top;\n",
       "    }\n",
       "\n",
       "    .dataframe thead th {\n",
       "        text-align: right;\n",
       "    }\n",
       "</style>\n",
       "<table border=\"1\" class=\"dataframe\">\n",
       "  <thead>\n",
       "    <tr style=\"text-align: right;\">\n",
       "      <th></th>\n",
       "      <th>airline_sentiment</th>\n",
       "      <th>text</th>\n",
       "    </tr>\n",
       "  </thead>\n",
       "  <tbody>\n",
       "    <tr>\n",
       "      <th>0</th>\n",
       "      <td>neutral</td>\n",
       "      <td>@VirginAmerica What @dhepburn said.</td>\n",
       "    </tr>\n",
       "    <tr>\n",
       "      <th>1</th>\n",
       "      <td>positive</td>\n",
       "      <td>@VirginAmerica plus you've added commercials t...</td>\n",
       "    </tr>\n",
       "    <tr>\n",
       "      <th>2</th>\n",
       "      <td>neutral</td>\n",
       "      <td>@VirginAmerica I didn't today... Must mean I n...</td>\n",
       "    </tr>\n",
       "    <tr>\n",
       "      <th>3</th>\n",
       "      <td>negative</td>\n",
       "      <td>@VirginAmerica it's really aggressive to blast...</td>\n",
       "    </tr>\n",
       "    <tr>\n",
       "      <th>4</th>\n",
       "      <td>negative</td>\n",
       "      <td>@VirginAmerica and it's a really big bad thing...</td>\n",
       "    </tr>\n",
       "    <tr>\n",
       "      <th>...</th>\n",
       "      <td>...</td>\n",
       "      <td>...</td>\n",
       "    </tr>\n",
       "    <tr>\n",
       "      <th>14480</th>\n",
       "      <td>positive</td>\n",
       "      <td>@AmericanAir thank you we got on a different f...</td>\n",
       "    </tr>\n",
       "    <tr>\n",
       "      <th>14481</th>\n",
       "      <td>negative</td>\n",
       "      <td>@AmericanAir leaving over 20 minutes Late Flig...</td>\n",
       "    </tr>\n",
       "    <tr>\n",
       "      <th>14482</th>\n",
       "      <td>neutral</td>\n",
       "      <td>@AmericanAir Please bring American Airlines to...</td>\n",
       "    </tr>\n",
       "    <tr>\n",
       "      <th>14483</th>\n",
       "      <td>negative</td>\n",
       "      <td>@AmericanAir you have my money, you change my ...</td>\n",
       "    </tr>\n",
       "    <tr>\n",
       "      <th>14484</th>\n",
       "      <td>neutral</td>\n",
       "      <td>@AmericanAir we have 8 ppl so we need 2 know h...</td>\n",
       "    </tr>\n",
       "  </tbody>\n",
       "</table>\n",
       "<p>14485 rows × 2 columns</p>\n",
       "</div>"
      ],
      "text/plain": [
       "      airline_sentiment                                               text\n",
       "0               neutral                @VirginAmerica What @dhepburn said.\n",
       "1              positive  @VirginAmerica plus you've added commercials t...\n",
       "2               neutral  @VirginAmerica I didn't today... Must mean I n...\n",
       "3              negative  @VirginAmerica it's really aggressive to blast...\n",
       "4              negative  @VirginAmerica and it's a really big bad thing...\n",
       "...                 ...                                                ...\n",
       "14480          positive  @AmericanAir thank you we got on a different f...\n",
       "14481          negative  @AmericanAir leaving over 20 minutes Late Flig...\n",
       "14482           neutral  @AmericanAir Please bring American Airlines to...\n",
       "14483          negative  @AmericanAir you have my money, you change my ...\n",
       "14484           neutral  @AmericanAir we have 8 ppl so we need 2 know h...\n",
       "\n",
       "[14485 rows x 2 columns]"
      ]
     },
     "execution_count": 67,
     "metadata": {},
     "output_type": "execute_result"
    }
   ],
   "source": [
    "df_task05 = df.copy()\n",
    "df_task05 = df_task05[[\"airline_sentiment\", \"text\"]]\n",
    "df_task05"
   ]
  },
  {
   "cell_type": "markdown",
   "metadata": {
    "id": "Vj1r6meHD3K_"
   },
   "source": [
    "Selecting only the negative tweets"
   ]
  },
  {
   "cell_type": "code",
   "execution_count": 68,
   "metadata": {
    "colab": {
     "base_uri": "https://localhost:8080/",
     "height": 423
    },
    "id": "7ctovnrAs2Vk",
    "outputId": "f4afd01e-0c6b-4cc9-cac4-eca4a01fdd08"
   },
   "outputs": [
    {
     "data": {
      "text/html": [
       "<div>\n",
       "<style scoped>\n",
       "    .dataframe tbody tr th:only-of-type {\n",
       "        vertical-align: middle;\n",
       "    }\n",
       "\n",
       "    .dataframe tbody tr th {\n",
       "        vertical-align: top;\n",
       "    }\n",
       "\n",
       "    .dataframe thead th {\n",
       "        text-align: right;\n",
       "    }\n",
       "</style>\n",
       "<table border=\"1\" class=\"dataframe\">\n",
       "  <thead>\n",
       "    <tr style=\"text-align: right;\">\n",
       "      <th></th>\n",
       "      <th>airline_sentiment</th>\n",
       "      <th>text</th>\n",
       "    </tr>\n",
       "  </thead>\n",
       "  <tbody>\n",
       "    <tr>\n",
       "      <th>0</th>\n",
       "      <td>negative</td>\n",
       "      <td>@VirginAmerica it's really aggressive to blast...</td>\n",
       "    </tr>\n",
       "    <tr>\n",
       "      <th>1</th>\n",
       "      <td>negative</td>\n",
       "      <td>@VirginAmerica and it's a really big bad thing...</td>\n",
       "    </tr>\n",
       "    <tr>\n",
       "      <th>2</th>\n",
       "      <td>negative</td>\n",
       "      <td>@VirginAmerica seriously would pay $30 a fligh...</td>\n",
       "    </tr>\n",
       "    <tr>\n",
       "      <th>3</th>\n",
       "      <td>negative</td>\n",
       "      <td>@VirginAmerica SFO-PDX schedule is still MIA.</td>\n",
       "    </tr>\n",
       "    <tr>\n",
       "      <th>4</th>\n",
       "      <td>negative</td>\n",
       "      <td>@VirginAmerica  I flew from NYC to SFO last we...</td>\n",
       "    </tr>\n",
       "    <tr>\n",
       "      <th>...</th>\n",
       "      <td>...</td>\n",
       "      <td>...</td>\n",
       "    </tr>\n",
       "    <tr>\n",
       "      <th>9077</th>\n",
       "      <td>negative</td>\n",
       "      <td>@AmericanAir thx for nothing on getting us out...</td>\n",
       "    </tr>\n",
       "    <tr>\n",
       "      <th>9078</th>\n",
       "      <td>negative</td>\n",
       "      <td>@AmericanAir my flight was Cancelled Flightled...</td>\n",
       "    </tr>\n",
       "    <tr>\n",
       "      <th>9079</th>\n",
       "      <td>negative</td>\n",
       "      <td>@AmericanAir right on cue with the delays👌</td>\n",
       "    </tr>\n",
       "    <tr>\n",
       "      <th>9080</th>\n",
       "      <td>negative</td>\n",
       "      <td>@AmericanAir leaving over 20 minutes Late Flig...</td>\n",
       "    </tr>\n",
       "    <tr>\n",
       "      <th>9081</th>\n",
       "      <td>negative</td>\n",
       "      <td>@AmericanAir you have my money, you change my ...</td>\n",
       "    </tr>\n",
       "  </tbody>\n",
       "</table>\n",
       "<p>9082 rows × 2 columns</p>\n",
       "</div>"
      ],
      "text/plain": [
       "     airline_sentiment                                               text\n",
       "0             negative  @VirginAmerica it's really aggressive to blast...\n",
       "1             negative  @VirginAmerica and it's a really big bad thing...\n",
       "2             negative  @VirginAmerica seriously would pay $30 a fligh...\n",
       "3             negative      @VirginAmerica SFO-PDX schedule is still MIA.\n",
       "4             negative  @VirginAmerica  I flew from NYC to SFO last we...\n",
       "...                ...                                                ...\n",
       "9077          negative  @AmericanAir thx for nothing on getting us out...\n",
       "9078          negative  @AmericanAir my flight was Cancelled Flightled...\n",
       "9079          negative         @AmericanAir right on cue with the delays👌\n",
       "9080          negative  @AmericanAir leaving over 20 minutes Late Flig...\n",
       "9081          negative  @AmericanAir you have my money, you change my ...\n",
       "\n",
       "[9082 rows x 2 columns]"
      ]
     },
     "execution_count": 68,
     "metadata": {},
     "output_type": "execute_result"
    }
   ],
   "source": [
    "df_task05 = df_task05[df_task05['airline_sentiment']==\"negative\"]\n",
    "df_task05 = df_task05.reset_index()\n",
    "df_task05 = df_task05.drop(columns = 'index')\n",
    "df_task05"
   ]
  },
  {
   "cell_type": "markdown",
   "metadata": {
    "id": "THh8O44hEA8U"
   },
   "source": [
    "Data Cleaning"
   ]
  },
  {
   "cell_type": "code",
   "execution_count": 69,
   "metadata": {
    "id": "dHsIP_5IECOw"
   },
   "outputs": [],
   "source": [
    "porter = PorterStemmer()\n",
    "\n",
    "documents = df_task05['text']\n",
    "Cleaned_doc = []\n",
    "for r in range(len(documents)):\n",
    "    review = documents[r]\n",
    "    try:\n",
    "\n",
    "        # Remove phrases starts with 'https'\n",
    "        review = re.sub(r'http://\\S+|https://\\S+', '', review)\n",
    "\n",
    "        # Remove emails\n",
    "        review = re.sub(r'[\\w\\.-]+@[\\w\\.-]+', '', review)\n",
    "\n",
    "        # removing everything except alphabets\n",
    "        review = re.sub('[^A-Za-z]', ' ', review)\n",
    "\n",
    "        # make all text lowercase\n",
    "        review = review.lower()\n",
    "\n",
    "        words_to_remove = ['virginamerica', 'united', 'southwestair','jetblue','usairways','americanair']\n",
    "        pattern = r'\\b(?:' + '|'.join(re.escape(word) for word in words_to_remove) + r')\\b'\n",
    "        review = re.sub(pattern, '', review)\n",
    "\n",
    "        # apply tokenization\n",
    "        Tokens = review.split()\n",
    "\n",
    "        Filtered_token = [w for w in Tokens if len(w)>3]\n",
    "        review = ' '.join(Filtered_token)\n",
    "\n",
    "    except:\n",
    "        continue\n",
    "    #Save cleaned text\n",
    "    Cleaned_doc.append(review)"
   ]
  },
  {
   "cell_type": "code",
   "execution_count": 70,
   "metadata": {
    "id": "BzixFYp9EHPB"
   },
   "outputs": [],
   "source": [
    "stop_words = stopwords.words('english')\n",
    "# Remove Stop Words\n",
    "for r in range(len(Cleaned_doc)):\n",
    "    each_item = []\n",
    "    for t in Cleaned_doc[r].split():\n",
    "        if t not in stop_words:\n",
    "             each_item.append(t)\n",
    "    Cleaned_doc[r] = ' '.join(each_item)"
   ]
  },
  {
   "cell_type": "markdown",
   "metadata": {
    "id": "UYvwExotELG4"
   },
   "source": [
    "Selection of only nouns"
   ]
  },
  {
   "cell_type": "code",
   "execution_count": 71,
   "metadata": {
    "colab": {
     "base_uri": "https://localhost:8080/"
    },
    "id": "qGe0h8BpH_VD",
    "outputId": "492064ad-0837-41ff-a3b1-2d54b73afed5"
   },
   "outputs": [
    {
     "name": "stderr",
     "output_type": "stream",
     "text": [
      "[nltk_data] Downloading package punkt to /Users/thilina/nltk_data...\n",
      "[nltk_data]   Package punkt is already up-to-date!\n",
      "[nltk_data] Downloading package averaged_perceptron_tagger to\n",
      "[nltk_data]     /Users/thilina/nltk_data...\n",
      "[nltk_data]   Package averaged_perceptron_tagger is already up-to-\n",
      "[nltk_data]       date!\n",
      "[nltk_data] Downloading package wordnet to /Users/thilina/nltk_data...\n",
      "[nltk_data]   Package wordnet is already up-to-date!\n"
     ]
    }
   ],
   "source": [
    "import nltk\n",
    "from nltk.corpus import wordnet\n",
    "from nltk.stem import WordNetLemmatizer\n",
    "\n",
    "nltk.download('punkt')\n",
    "nltk.download('averaged_perceptron_tagger')\n",
    "nltk.download('wordnet')\n",
    "\n",
    "each_item = []\n",
    "for r in range(len(Cleaned_doc)):\n",
    "    review = Cleaned_doc[r]\n",
    "\n",
    "    # Apply tokenization\n",
    "    Tokens = review.split()\n",
    "\n",
    "    # POS tagging\n",
    "    tagged_tokens = nltk.pos_tag(Tokens)\n",
    "\n",
    "    # Lemmatize words\n",
    "    lemmatizer = WordNetLemmatizer()\n",
    "    nouns = [lemmatizer.lemmatize(word, pos='n') for word, tag in tagged_tokens if tag.startswith('N')]\n",
    "\n",
    "    # Print(nouns)\n",
    "    Cleaned_doc[r] = ' '.join(nouns)"
   ]
  },
  {
   "cell_type": "code",
   "execution_count": 72,
   "metadata": {
    "colab": {
     "base_uri": "https://localhost:8080/",
     "height": 423
    },
    "id": "giBcScUIINur",
    "outputId": "142296ad-bce9-4c15-a4c7-2d8b31696060"
   },
   "outputs": [
    {
     "data": {
      "text/html": [
       "<div>\n",
       "<style scoped>\n",
       "    .dataframe tbody tr th:only-of-type {\n",
       "        vertical-align: middle;\n",
       "    }\n",
       "\n",
       "    .dataframe tbody tr th {\n",
       "        vertical-align: top;\n",
       "    }\n",
       "\n",
       "    .dataframe thead th {\n",
       "        text-align: right;\n",
       "    }\n",
       "</style>\n",
       "<table border=\"1\" class=\"dataframe\">\n",
       "  <thead>\n",
       "    <tr style=\"text-align: right;\">\n",
       "      <th></th>\n",
       "      <th>airline_sentiment</th>\n",
       "      <th>text</th>\n",
       "      <th>cleaned_data</th>\n",
       "    </tr>\n",
       "  </thead>\n",
       "  <tbody>\n",
       "    <tr>\n",
       "      <th>0</th>\n",
       "      <td>negative</td>\n",
       "      <td>@VirginAmerica it's really aggressive to blast...</td>\n",
       "      <td>blast entertainment guest recourse</td>\n",
       "    </tr>\n",
       "    <tr>\n",
       "      <th>1</th>\n",
       "      <td>negative</td>\n",
       "      <td>@VirginAmerica and it's a really big bad thing...</td>\n",
       "      <td>thing</td>\n",
       "    </tr>\n",
       "    <tr>\n",
       "      <th>2</th>\n",
       "      <td>negative</td>\n",
       "      <td>@VirginAmerica seriously would pay $30 a fligh...</td>\n",
       "      <td>flight seat thing</td>\n",
       "    </tr>\n",
       "    <tr>\n",
       "      <th>3</th>\n",
       "      <td>negative</td>\n",
       "      <td>@VirginAmerica SFO-PDX schedule is still MIA.</td>\n",
       "      <td>schedule</td>\n",
       "    </tr>\n",
       "    <tr>\n",
       "      <th>4</th>\n",
       "      <td>negative</td>\n",
       "      <td>@VirginAmerica  I flew from NYC to SFO last we...</td>\n",
       "      <td>week gentleman side help</td>\n",
       "    </tr>\n",
       "    <tr>\n",
       "      <th>...</th>\n",
       "      <td>...</td>\n",
       "      <td>...</td>\n",
       "      <td>...</td>\n",
       "    </tr>\n",
       "    <tr>\n",
       "      <th>9077</th>\n",
       "      <td>negative</td>\n",
       "      <td>@AmericanAir thx for nothing on getting us out...</td>\n",
       "      <td>nothing country plane</td>\n",
       "    </tr>\n",
       "    <tr>\n",
       "      <th>9078</th>\n",
       "      <td>negative</td>\n",
       "      <td>@AmericanAir my flight was Cancelled Flightled...</td>\n",
       "      <td>flight leaving tomorrow morning auto night fli...</td>\n",
       "    </tr>\n",
       "    <tr>\n",
       "      <th>9079</th>\n",
       "      <td>negative</td>\n",
       "      <td>@AmericanAir right on cue with the delays👌</td>\n",
       "      <td>delay</td>\n",
       "    </tr>\n",
       "    <tr>\n",
       "      <th>9080</th>\n",
       "      <td>negative</td>\n",
       "      <td>@AmericanAir leaving over 20 minutes Late Flig...</td>\n",
       "      <td>minute flight warning communication minute fli...</td>\n",
       "    </tr>\n",
       "    <tr>\n",
       "      <th>9081</th>\n",
       "      <td>negative</td>\n",
       "      <td>@AmericanAir you have my money, you change my ...</td>\n",
       "      <td>money change flight answer phone suggestion co...</td>\n",
       "    </tr>\n",
       "  </tbody>\n",
       "</table>\n",
       "<p>9082 rows × 3 columns</p>\n",
       "</div>"
      ],
      "text/plain": [
       "     airline_sentiment                                               text  \\\n",
       "0             negative  @VirginAmerica it's really aggressive to blast...   \n",
       "1             negative  @VirginAmerica and it's a really big bad thing...   \n",
       "2             negative  @VirginAmerica seriously would pay $30 a fligh...   \n",
       "3             negative      @VirginAmerica SFO-PDX schedule is still MIA.   \n",
       "4             negative  @VirginAmerica  I flew from NYC to SFO last we...   \n",
       "...                ...                                                ...   \n",
       "9077          negative  @AmericanAir thx for nothing on getting us out...   \n",
       "9078          negative  @AmericanAir my flight was Cancelled Flightled...   \n",
       "9079          negative         @AmericanAir right on cue with the delays👌   \n",
       "9080          negative  @AmericanAir leaving over 20 minutes Late Flig...   \n",
       "9081          negative  @AmericanAir you have my money, you change my ...   \n",
       "\n",
       "                                           cleaned_data  \n",
       "0                    blast entertainment guest recourse  \n",
       "1                                                 thing  \n",
       "2                                     flight seat thing  \n",
       "3                                              schedule  \n",
       "4                              week gentleman side help  \n",
       "...                                                 ...  \n",
       "9077                              nothing country plane  \n",
       "9078  flight leaving tomorrow morning auto night fli...  \n",
       "9079                                              delay  \n",
       "9080  minute flight warning communication minute fli...  \n",
       "9081  money change flight answer phone suggestion co...  \n",
       "\n",
       "[9082 rows x 3 columns]"
      ]
     },
     "execution_count": 72,
     "metadata": {},
     "output_type": "execute_result"
    }
   ],
   "source": [
    "df_task05['cleaned_data'] = Cleaned_doc\n",
    "df_task05"
   ]
  },
  {
   "cell_type": "code",
   "execution_count": 73,
   "metadata": {
    "id": "4QxOKJOxITcc"
   },
   "outputs": [],
   "source": [
    "count_vectorizer = CountVectorizer()\n",
    "\n",
    "count_data = count_vectorizer.fit_transform(Cleaned_doc)"
   ]
  },
  {
   "cell_type": "markdown",
   "metadata": {
    "id": "GcdogM4tIVM6"
   },
   "source": [
    "Most Common Words"
   ]
  },
  {
   "cell_type": "code",
   "execution_count": 74,
   "metadata": {
    "colab": {
     "base_uri": "https://localhost:8080/",
     "height": 398
    },
    "id": "F4ypydpxIW0R",
    "outputId": "c90ab597-c7a1-45f3-c25f-a07f8702354f"
   },
   "outputs": [
    {
     "data": {
      "image/png": "[encoded data removed]",
      "text/plain": [
       "<Figure size 792x216 with 1 Axes>"
      ]
     },
     "metadata": {
      "needs_background": "light"
     },
     "output_type": "display_data"
    }
   ],
   "source": [
    "terms = count_vectorizer.get_feature_names_out()\n",
    "\n",
    "# Count the popularity of words\n",
    "total_counts = np.zeros(len(terms))\n",
    "for t in count_data:\n",
    "    total_counts += t.toarray()[0]\n",
    "\n",
    "count_dict = (zip(terms, total_counts))\n",
    "count_dict = sorted(count_dict, key=lambda x: x[1], reverse=True)[0:40]  # Take the top 40 words\n",
    "\n",
    "words = [w[0] for w in count_dict]\n",
    "counts = [w[1] for w in count_dict]\n",
    "x_pos = np.arange(len(words))\n",
    "\n",
    "plt.figure(2, figsize=(11, 3))\n",
    "plt.subplot(title='40 most common words')\n",
    "plt.bar(words, counts)\n",
    "plt.xticks(x_pos, words, rotation=90)\n",
    "plt.xlabel('words')\n",
    "plt.ylabel('counts')\n",
    "plt.show()"
   ]
  },
  {
   "cell_type": "markdown",
   "metadata": {
    "id": "zbw9qxOrI56e"
   },
   "source": [
    "Remove highly frequent (Greater than 20%) and infrequent words (less than 1%)"
   ]
  },
  {
   "cell_type": "code",
   "execution_count": 75,
   "metadata": {
    "colab": {
     "base_uri": "https://localhost:8080/"
    },
    "id": "ZPOrbSZNI7ZK",
    "outputId": "72660450-2945-4766-da61-3abca1c689ac"
   },
   "outputs": [
    {
     "name": "stdout",
     "output_type": "stream",
     "text": [
      "Number of Terms Remained:  116\n"
     ]
    },
    {
     "data": {
      "text/plain": [
       "<9082x116 sparse matrix of type '<class 'numpy.int64'>'\n",
       "\twith 17510 stored elements in Compressed Sparse Row format>"
      ]
     },
     "execution_count": 75,
     "metadata": {},
     "output_type": "execute_result"
    }
   ],
   "source": [
    "keepIndex = [];\n",
    "for t in range(len(total_counts)):\n",
    "    if total_counts[t] < 1000 and total_counts[t] > 50:\n",
    "        keepIndex.append(t)\n",
    "\n",
    "print('Number of Terms Remained: ', len(keepIndex))\n",
    "\n",
    "# Save the remaining term and frequency data\n",
    "ReducedTerm = [terms[t] for t in keepIndex]\n",
    "ReducedCount = count_data[:,keepIndex]\n",
    "ReducedCount"
   ]
  },
  {
   "cell_type": "markdown",
   "metadata": {
    "id": "T0_1JrliJCW2"
   },
   "source": [
    "**LDA**"
   ]
  },
  {
   "cell_type": "markdown",
   "metadata": {
    "id": "2TZ51bipJDDn"
   },
   "source": [
    "Selection of the optimum number of topics"
   ]
  },
  {
   "cell_type": "code",
   "execution_count": 76,
   "metadata": {
    "id": "aLzdqhfgJGIE"
   },
   "outputs": [],
   "source": [
    "Cleaned_doc_new = []\n",
    "for r in range(len(Cleaned_doc)):\n",
    "    each_item = []\n",
    "    for t in Cleaned_doc[r].split():\n",
    "        #Keep only terms included in ReducedTerm\n",
    "        if t in ReducedTerm:\n",
    "             each_item.append(t)\n",
    "    Cleaned_doc_new.append(each_item)"
   ]
  },
  {
   "cell_type": "code",
   "execution_count": 77,
   "metadata": {
    "id": "fs-tTL9RJJwE"
   },
   "outputs": [],
   "source": [
    "# Construct term dictionary in the format \"Term : Index\"\n",
    "id2word = corpora.Dictionary(Cleaned_doc_new)\n",
    "\n",
    "# Bag of Word Representation\n",
    "Corpus = [id2word.doc2bow(text) for text in Cleaned_doc_new]"
   ]
  },
  {
   "cell_type": "code",
   "execution_count": 78,
   "metadata": {
    "colab": {
     "base_uri": "https://localhost:8080/"
    },
    "id": "_iCkhfS_JNdR",
    "outputId": "609c98f9-26e5-43ba-e106-441c61afa7dd"
   },
   "outputs": [
    {
     "name": "stdout",
     "output_type": "stream",
     "text": [
      "[(0,\n",
      "  '0.315*\"customer\" + 0.280*\"service\" + 0.083*\"bag\" + 0.028*\"help\" + '\n",
      "  '0.021*\"computer\" + 0.019*\"thanks\" + 0.018*\"vacation\" + 0.018*\"home\" + '\n",
      "  '0.015*\"baggage\"'),\n",
      " (1,\n",
      "  '0.169*\"plane\" + 0.093*\"minute\" + 0.075*\"need\" + 0.072*\"hold\" + 0.063*\"wait\" '\n",
      "  '+ 0.059*\"line\" + 0.054*\"night\" + 0.040*\"someone\" + 0.040*\"help\"'),\n",
      " (2,\n",
      "  '0.156*\"thanks\" + 0.118*\"ticket\" + 0.091*\"issue\" + 0.079*\"change\" + '\n",
      "  '0.062*\"connection\" + 0.053*\"mile\" + 0.049*\"time\" + 0.044*\"talk\" + '\n",
      "  '0.040*\"person\"'),\n",
      " (3,\n",
      "  '0.131*\"tomorrow\" + 0.111*\"seat\" + 0.082*\"today\" + 0.078*\"weather\" + '\n",
      "  '0.070*\"home\" + 0.069*\"please\" + 0.041*\"morning\" + 0.028*\"help\" + '\n",
      "  '0.028*\"business\"'),\n",
      " (4,\n",
      "  '0.146*\"time\" + 0.094*\"airline\" + 0.091*\"help\" + 0.069*\"system\" + '\n",
      "  '0.068*\"guy\" + 0.050*\"nothing\" + 0.044*\"anything\" + 0.038*\"travel\" + '\n",
      "  '0.031*\"work\"'),\n",
      " (5,\n",
      "  '0.195*\"agent\" + 0.128*\"gate\" + 0.095*\"people\" + 0.044*\"thing\" + '\n",
      "  '0.044*\"hotel\" + 0.041*\"help\" + 0.037*\"employee\" + 0.034*\"min\" + '\n",
      "  '0.033*\"credit\"'),\n",
      " (6,\n",
      "  '0.180*\"phone\" + 0.093*\"luggage\" + 0.075*\"problem\" + 0.067*\"number\" + '\n",
      "  '0.054*\"option\" + 0.054*\"trip\" + 0.043*\"yesterday\" + 0.038*\"point\" + '\n",
      "  '0.030*\"info\"'),\n",
      " (7,\n",
      "  '0.189*\"delay\" + 0.129*\"day\" + 0.114*\"response\" + 0.101*\"service\" + '\n",
      "  '0.063*\"customer\" + 0.062*\"rebook\" + 0.049*\"crew\" + 0.048*\"airline\" + '\n",
      "  '0.031*\"food\"'),\n",
      " (8,\n",
      "  '0.210*\"call\" + 0.095*\"reservation\" + 0.057*\"flightr\" + 0.054*\"passenger\" + '\n",
      "  '0.048*\"airport\" + 0.048*\"baggage\" + 0.047*\"week\" + 0.043*\"care\" + '\n",
      "  '0.039*\"time\"')]\n"
     ]
    }
   ],
   "source": [
    "# Train model using bag of word representation\n",
    "lda_model = gensim.models.ldamodel.LdaModel(corpus=Corpus,\n",
    "                                       id2word=id2word,\n",
    "                                       num_topics=9,\n",
    "                                       random_state=100)\n",
    "\n",
    "# Print the Keyword in the 10 topics\n",
    "pprint(lda_model.print_topics(num_words=9))\n",
    "doc_lda = lda_model[Corpus]"
   ]
  },
  {
   "cell_type": "code",
   "execution_count": 79,
   "metadata": {
    "colab": {
     "base_uri": "https://localhost:8080/"
    },
    "id": "kZ7KmSsqJaYY",
    "outputId": "a78f6e22-1224-4936-dcc3-e05850344910"
   },
   "outputs": [
    {
     "name": "stdout",
     "output_type": "stream",
     "text": [
      "\n",
      "Coherence Score:  0.3216980251668777\n"
     ]
    }
   ],
   "source": [
    "# Text input format (Cleaned_doc_new) instead of bag of words\n",
    "coherence_model_lda = CoherenceModel(model=lda_model,\n",
    "                                     texts=Cleaned_doc_new,\n",
    "                                     dictionary=id2word,\n",
    "                                     coherence='c_v')\n",
    "\n",
    "\n",
    "coherence_lda = coherence_model_lda.get_coherence()\n",
    "print('\\nCoherence Score: ', coherence_lda)"
   ]
  },
  {
   "cell_type": "code",
   "execution_count": 80,
   "metadata": {
    "colab": {
     "base_uri": "https://localhost:8080/"
    },
    "id": "eyFJRJ1cJzjS",
    "outputId": "cab6f860-0d70-41c5-d7f0-2474d7016eb1"
   },
   "outputs": [
    {
     "name": "stdout",
     "output_type": "stream",
     "text": [
      "Topic Number: 2 -- Coherence: 0.22809653562546509\n",
      "Topic Number: 3 -- Coherence: 0.2272986899755587\n",
      "Topic Number: 4 -- Coherence: 0.2589192192203402\n",
      "Topic Number: 5 -- Coherence: 0.27881120923785996\n",
      "Topic Number: 6 -- Coherence: 0.3057332569868972\n",
      "Topic Number: 7 -- Coherence: 0.31262009119799583\n",
      "Topic Number: 8 -- Coherence: 0.31807411566951715\n",
      "Topic Number: 9 -- Coherence: 0.3216980251668777\n",
      "Topic Number: 10 -- Coherence: 0.2927762854573977\n"
     ]
    }
   ],
   "source": [
    "#Evaluation models with topics numbers from 2 to 10\n",
    "Topics = list(range(2,11,1))\n",
    "coherence_scores = []\n",
    "Trained_Models = []\n",
    "for top in Topics:\n",
    "    lda_model = gensim.models.ldamodel.LdaModel(corpus=Corpus,\n",
    "                                               id2word=id2word,\n",
    "                                               num_topics=top,\n",
    "                                               random_state=100)\n",
    "    #Keep the trained models\n",
    "    Trained_Models.append(lda_model)\n",
    "    #Compute coherence score for each model\n",
    "    coherence_model_lda = CoherenceModel(model=lda_model,\n",
    "                                         texts=Cleaned_doc_new,\n",
    "                                         dictionary=id2word,\n",
    "                                         coherence='c_v')\n",
    "    coherence = coherence_model_lda.get_coherence()\n",
    "    #Save and print the coherence scores\n",
    "    coherence_scores.append(coherence)\n",
    "    print('Topic Number: {0} -- Coherence: {1}'.format(top, coherence))"
   ]
  },
  {
   "cell_type": "code",
   "execution_count": 81,
   "metadata": {
    "colab": {
     "base_uri": "https://localhost:8080/",
     "height": 430
    },
    "id": "nk3-l2AmKAfl",
    "outputId": "4602c0d1-757e-4fd9-8e8d-b16b273a6058"
   },
   "outputs": [
    {
     "data": {
      "text/plain": [
       "Text(0, 0.5, 'Coherence')"
      ]
     },
     "execution_count": 81,
     "metadata": {},
     "output_type": "execute_result"
    },
    {
     "data": {
      "image/png": "[encoded data removed]",
      "text/plain": [
       "<Figure size 432x288 with 1 Axes>"
      ]
     },
     "metadata": {
      "needs_background": "light"
     },
     "output_type": "display_data"
    }
   ],
   "source": [
    "pyplot.figure(figsize=(6,4))\n",
    "pyplot.plot(coherence_scores)\n",
    "pyplot.xticks(range(0,len(Topics)),Topics)\n",
    "pyplot.title('Coherence Score by Topic Number', fontsize=16)\n",
    "pyplot.xlabel('Topic Number')\n",
    "pyplot.ylabel('Coherence')"
   ]
  },
  {
   "cell_type": "markdown",
   "metadata": {
    "id": "fzCRCs-rKFfM"
   },
   "source": [
    "We have to select optimum number of topics as 9 as this is where the coherence score peaks as seen in the above line graph"
   ]
  },
  {
   "cell_type": "code",
   "execution_count": 82,
   "metadata": {
    "colab": {
     "base_uri": "https://localhost:8080/"
    },
    "id": "i9wOypf_KHjX",
    "outputId": "fcab4866-ace2-4019-b8de-a276f16bc23b"
   },
   "outputs": [
    {
     "data": {
      "text/plain": [
       "array([[1.15784205e+02, 1.11120861e-01, 1.11120956e-01, ...,\n",
       "        1.15397890e+02, 1.11118052e-01, 1.11118796e-01],\n",
       "       [3.23440961e-01, 1.11119390e-01, 1.11118771e-01, ...,\n",
       "        1.11128215e-01, 1.11114464e-01, 1.11121984e-01],\n",
       "       [1.11139212e-01, 1.11128897e-01, 1.11128644e-01, ...,\n",
       "        1.11131833e-01, 1.11126663e-01, 1.11125034e-01],\n",
       "       ...,\n",
       "       [2.16225570e+02, 1.11124667e-01, 2.24111006e+02, ...,\n",
       "        1.11132215e-01, 1.11119058e-01, 8.51109978e+01],\n",
       "       [1.11127820e-01, 3.88111001e+02, 1.11128781e-01, ...,\n",
       "        2.38241751e+01, 1.11130843e-01, 1.11120064e-01],\n",
       "       [1.11133955e-01, 1.11125563e-01, 1.11124074e-01, ...,\n",
       "        1.11141333e-01, 1.11128796e-01, 1.11138807e-01]])"
      ]
     },
     "execution_count": 82,
     "metadata": {},
     "output_type": "execute_result"
    }
   ],
   "source": [
    "# Tweak the two parameters below\n",
    "number_topics = 9\n",
    "\n",
    "lda = LDA(n_components=number_topics, n_jobs=-1, random_state=2023)\n",
    "lda.fit(ReducedCount)\n",
    "#Trained LDA model\n",
    "lda.components_"
   ]
  },
  {
   "cell_type": "code",
   "execution_count": 83,
   "metadata": {
    "colab": {
     "base_uri": "https://localhost:8080/"
    },
    "id": "uLs3BomlKP6d",
    "outputId": "86fea025-8df1-46dd-b02d-a338914ba1e4"
   },
   "outputs": [
    {
     "name": "stdout",
     "output_type": "stream",
     "text": [
      "[[4.95586055e-02 4.75625748e-05 4.75626156e-05 ... 4.93932530e-02\n",
      "  4.75613728e-05 4.75616908e-05]\n",
      " [1.54919784e-04 5.32232895e-05 5.32229932e-05 ... 5.32275168e-05\n",
      "  5.32209300e-05 5.32245321e-05]\n",
      " [4.39116057e-05 4.39075303e-05 4.39074300e-05 ... 4.39086903e-05\n",
      "  4.39066475e-05 4.39060038e-05]\n",
      " ...\n",
      " [1.20162511e-01 6.17550416e-05 1.24544666e-01 ... 6.17592361e-05\n",
      "  6.17519246e-05 4.72985283e-02]\n",
      " [5.44957800e-05 1.90325085e-01 5.44962516e-05 ... 1.16830962e-02\n",
      "  5.44972626e-05 5.44919769e-05]\n",
      " [5.22191678e-05 5.22152243e-05 5.22145249e-05 ... 5.22226343e-05\n",
      "  5.22167435e-05 5.22214476e-05]]\n"
     ]
    }
   ],
   "source": [
    "# Word Probablities in Topics\n",
    "Word_Topics_Pro = lda.components_ / lda.components_.sum(axis=1)[:, np.newaxis]\n",
    "print(Word_Topics_Pro)"
   ]
  },
  {
   "cell_type": "code",
   "execution_count": 84,
   "metadata": {
    "colab": {
     "base_uri": "https://localhost:8080/"
    },
    "id": "UQhOTzsHKUhz",
    "outputId": "2ebba9dc-9d3d-40b4-f4c1-c7516bec3e68"
   },
   "outputs": [
    {
     "name": "stdout",
     "output_type": "stream",
     "text": [
      "\n",
      "Topic #0:\n",
      "plane : 0.235\n",
      "help : 0.173\n",
      "gate : 0.146\n",
      "tomorrow : 0.075\n",
      "need : 0.068\n",
      "\n",
      "Topic #1:\n",
      "call : 0.157\n",
      "minute : 0.143\n",
      "thanks : 0.126\n",
      "hold : 0.112\n",
      "someone : 0.095\n",
      "\n",
      "Topic #2:\n",
      "customer : 0.305\n",
      "service : 0.302\n",
      "delay : 0.137\n",
      "home : 0.072\n",
      "flightr : 0.055\n",
      "\n",
      "Topic #3:\n",
      "people : 0.138\n",
      "luggage : 0.119\n",
      "reservation : 0.092\n",
      "response : 0.081\n",
      "check : 0.081\n",
      "\n",
      "Topic #4:\n",
      "ticket : 0.133\n",
      "issue : 0.129\n",
      "bag : 0.128\n",
      "system : 0.088\n",
      "please : 0.088\n",
      "\n",
      "Topic #5:\n",
      "day : 0.113\n",
      "guy : 0.111\n",
      "weather : 0.089\n",
      "nothing : 0.079\n",
      "min : 0.067\n",
      "\n",
      "Topic #6:\n",
      "seat : 0.183\n",
      "airport : 0.125\n",
      "agent : 0.120\n",
      "connection : 0.086\n",
      "hotel : 0.077\n",
      "\n",
      "Topic #7:\n",
      "time : 0.364\n",
      "airline : 0.190\n",
      "problem : 0.116\n",
      "week : 0.067\n",
      "person : 0.045\n",
      "\n",
      "Topic #8:\n",
      "phone : 0.186\n",
      "today : 0.127\n",
      "passenger : 0.080\n",
      "number : 0.062\n",
      "email : 0.058\n"
     ]
    }
   ],
   "source": [
    "for topic_idx, topic in enumerate(Word_Topics_Pro):\n",
    "    print(\"\\nTopic #%d:\" % topic_idx)\n",
    "    count_dict = (zip(ReducedTerm, topic))\n",
    "    count_dict = sorted(count_dict, key=lambda x:x[1], reverse=True)[0:5]\n",
    "    for w in count_dict:\n",
    "        print(w[0], ': {0:.3f}'.format(w[1]))"
   ]
  },
  {
   "cell_type": "code",
   "execution_count": 85,
   "metadata": {
    "id": "LIt-EO3QKZqa"
   },
   "outputs": [],
   "source": [
    "#### Assigning names to each topic\n",
    "\n",
    "## Topic 0 - Helping at the gate\n",
    "## Topic 1 - call was on hold\n",
    "## Topic 2 - customer service\n",
    "## Topic 3 - luggage and reservation issues\n",
    "## Topic 4 - tickets and system issues\n",
    "## Topic 5 - date and weather changes\n",
    "## Topic 6 - facility issues (Seats and hotels)\n",
    "## Topic 7 - delay on flights\n",
    "## Topic 8 - hotlines issues"
   ]
  },
  {
   "cell_type": "code",
   "execution_count": 86,
   "metadata": {
    "colab": {
     "base_uri": "https://localhost:8080/",
     "height": 424
    },
    "id": "orAiDVPPKgan",
    "outputId": "9c47292f-3b52-4349-8f74-e91d25582672"
   },
   "outputs": [
    {
     "data": {
      "text/html": [
       "<div>\n",
       "<style scoped>\n",
       "    .dataframe tbody tr th:only-of-type {\n",
       "        vertical-align: middle;\n",
       "    }\n",
       "\n",
       "    .dataframe tbody tr th {\n",
       "        vertical-align: top;\n",
       "    }\n",
       "\n",
       "    .dataframe thead th {\n",
       "        text-align: right;\n",
       "    }\n",
       "</style>\n",
       "<table border=\"1\" class=\"dataframe\">\n",
       "  <thead>\n",
       "    <tr style=\"text-align: right;\">\n",
       "      <th></th>\n",
       "      <th>agent</th>\n",
       "      <th>airline</th>\n",
       "      <th>airport</th>\n",
       "      <th>answer</th>\n",
       "      <th>anyone</th>\n",
       "      <th>anything</th>\n",
       "      <th>attendant</th>\n",
       "      <th>bag</th>\n",
       "      <th>baggage</th>\n",
       "      <th>board</th>\n",
       "      <th>...</th>\n",
       "      <th>voucher</th>\n",
       "      <th>wait</th>\n",
       "      <th>weather</th>\n",
       "      <th>website</th>\n",
       "      <th>week</th>\n",
       "      <th>wife</th>\n",
       "      <th>wifi</th>\n",
       "      <th>work</th>\n",
       "      <th>year</th>\n",
       "      <th>yesterday</th>\n",
       "    </tr>\n",
       "  </thead>\n",
       "  <tbody>\n",
       "    <tr>\n",
       "      <th>0</th>\n",
       "      <td>0.049559</td>\n",
       "      <td>0.000048</td>\n",
       "      <td>0.000048</td>\n",
       "      <td>0.000048</td>\n",
       "      <td>0.044562</td>\n",
       "      <td>0.041994</td>\n",
       "      <td>0.000048</td>\n",
       "      <td>0.000048</td>\n",
       "      <td>0.000048</td>\n",
       "      <td>0.000048</td>\n",
       "      <td>...</td>\n",
       "      <td>0.000048</td>\n",
       "      <td>0.011131</td>\n",
       "      <td>0.000048</td>\n",
       "      <td>0.000048</td>\n",
       "      <td>0.000048</td>\n",
       "      <td>0.000048</td>\n",
       "      <td>0.000048</td>\n",
       "      <td>0.049393</td>\n",
       "      <td>0.000048</td>\n",
       "      <td>0.000048</td>\n",
       "    </tr>\n",
       "    <tr>\n",
       "      <th>1</th>\n",
       "      <td>0.000155</td>\n",
       "      <td>0.000053</td>\n",
       "      <td>0.000053</td>\n",
       "      <td>0.000067</td>\n",
       "      <td>0.000053</td>\n",
       "      <td>0.000053</td>\n",
       "      <td>0.000053</td>\n",
       "      <td>0.000053</td>\n",
       "      <td>0.062496</td>\n",
       "      <td>0.000053</td>\n",
       "      <td>...</td>\n",
       "      <td>0.000053</td>\n",
       "      <td>0.030787</td>\n",
       "      <td>0.000053</td>\n",
       "      <td>0.000053</td>\n",
       "      <td>0.000053</td>\n",
       "      <td>0.015448</td>\n",
       "      <td>0.024481</td>\n",
       "      <td>0.000053</td>\n",
       "      <td>0.000053</td>\n",
       "      <td>0.000053</td>\n",
       "    </tr>\n",
       "    <tr>\n",
       "      <th>2</th>\n",
       "      <td>0.000044</td>\n",
       "      <td>0.000044</td>\n",
       "      <td>0.000044</td>\n",
       "      <td>0.000044</td>\n",
       "      <td>0.000044</td>\n",
       "      <td>0.000044</td>\n",
       "      <td>0.000044</td>\n",
       "      <td>0.000044</td>\n",
       "      <td>0.000044</td>\n",
       "      <td>0.000044</td>\n",
       "      <td>...</td>\n",
       "      <td>0.000044</td>\n",
       "      <td>0.000044</td>\n",
       "      <td>0.000044</td>\n",
       "      <td>0.000044</td>\n",
       "      <td>0.000044</td>\n",
       "      <td>0.005460</td>\n",
       "      <td>0.000044</td>\n",
       "      <td>0.000044</td>\n",
       "      <td>0.000044</td>\n",
       "      <td>0.000044</td>\n",
       "    </tr>\n",
       "    <tr>\n",
       "      <th>3</th>\n",
       "      <td>0.000064</td>\n",
       "      <td>0.000064</td>\n",
       "      <td>0.000064</td>\n",
       "      <td>0.000064</td>\n",
       "      <td>0.000064</td>\n",
       "      <td>0.000064</td>\n",
       "      <td>0.048684</td>\n",
       "      <td>0.000064</td>\n",
       "      <td>0.000064</td>\n",
       "      <td>0.000064</td>\n",
       "      <td>...</td>\n",
       "      <td>0.000064</td>\n",
       "      <td>0.039657</td>\n",
       "      <td>0.000064</td>\n",
       "      <td>0.000064</td>\n",
       "      <td>0.000064</td>\n",
       "      <td>0.000064</td>\n",
       "      <td>0.000064</td>\n",
       "      <td>0.000064</td>\n",
       "      <td>0.000064</td>\n",
       "      <td>0.000064</td>\n",
       "    </tr>\n",
       "    <tr>\n",
       "      <th>4</th>\n",
       "      <td>0.000065</td>\n",
       "      <td>0.000065</td>\n",
       "      <td>0.000065</td>\n",
       "      <td>0.000065</td>\n",
       "      <td>0.000065</td>\n",
       "      <td>0.000065</td>\n",
       "      <td>0.000065</td>\n",
       "      <td>0.128053</td>\n",
       "      <td>0.000065</td>\n",
       "      <td>0.054415</td>\n",
       "      <td>...</td>\n",
       "      <td>0.000065</td>\n",
       "      <td>0.000065</td>\n",
       "      <td>0.000065</td>\n",
       "      <td>0.025493</td>\n",
       "      <td>0.000065</td>\n",
       "      <td>0.000065</td>\n",
       "      <td>0.000065</td>\n",
       "      <td>0.000065</td>\n",
       "      <td>0.047403</td>\n",
       "      <td>0.000065</td>\n",
       "    </tr>\n",
       "    <tr>\n",
       "      <th>5</th>\n",
       "      <td>0.000061</td>\n",
       "      <td>0.000061</td>\n",
       "      <td>0.000061</td>\n",
       "      <td>0.000061</td>\n",
       "      <td>0.000061</td>\n",
       "      <td>0.000061</td>\n",
       "      <td>0.000061</td>\n",
       "      <td>0.000061</td>\n",
       "      <td>0.000061</td>\n",
       "      <td>0.000061</td>\n",
       "      <td>...</td>\n",
       "      <td>0.000061</td>\n",
       "      <td>0.000061</td>\n",
       "      <td>0.089184</td>\n",
       "      <td>0.000061</td>\n",
       "      <td>0.000061</td>\n",
       "      <td>0.000591</td>\n",
       "      <td>0.000061</td>\n",
       "      <td>0.000061</td>\n",
       "      <td>0.000061</td>\n",
       "      <td>0.000061</td>\n",
       "    </tr>\n",
       "    <tr>\n",
       "      <th>6</th>\n",
       "      <td>0.120163</td>\n",
       "      <td>0.000062</td>\n",
       "      <td>0.124545</td>\n",
       "      <td>0.000062</td>\n",
       "      <td>0.000062</td>\n",
       "      <td>0.000062</td>\n",
       "      <td>0.000062</td>\n",
       "      <td>0.000062</td>\n",
       "      <td>0.028755</td>\n",
       "      <td>0.000062</td>\n",
       "      <td>...</td>\n",
       "      <td>0.036184</td>\n",
       "      <td>0.000062</td>\n",
       "      <td>0.000062</td>\n",
       "      <td>0.000062</td>\n",
       "      <td>0.000062</td>\n",
       "      <td>0.003630</td>\n",
       "      <td>0.006174</td>\n",
       "      <td>0.000062</td>\n",
       "      <td>0.000062</td>\n",
       "      <td>0.047299</td>\n",
       "    </tr>\n",
       "    <tr>\n",
       "      <th>7</th>\n",
       "      <td>0.000054</td>\n",
       "      <td>0.190325</td>\n",
       "      <td>0.000054</td>\n",
       "      <td>0.000054</td>\n",
       "      <td>0.000054</td>\n",
       "      <td>0.000055</td>\n",
       "      <td>0.000054</td>\n",
       "      <td>0.000054</td>\n",
       "      <td>0.000054</td>\n",
       "      <td>0.000055</td>\n",
       "      <td>...</td>\n",
       "      <td>0.000054</td>\n",
       "      <td>0.000055</td>\n",
       "      <td>0.000054</td>\n",
       "      <td>0.000054</td>\n",
       "      <td>0.066747</td>\n",
       "      <td>0.000054</td>\n",
       "      <td>0.000054</td>\n",
       "      <td>0.011683</td>\n",
       "      <td>0.000054</td>\n",
       "      <td>0.000054</td>\n",
       "    </tr>\n",
       "    <tr>\n",
       "      <th>8</th>\n",
       "      <td>0.000052</td>\n",
       "      <td>0.000052</td>\n",
       "      <td>0.000052</td>\n",
       "      <td>0.035280</td>\n",
       "      <td>0.000052</td>\n",
       "      <td>0.000052</td>\n",
       "      <td>0.000052</td>\n",
       "      <td>0.000052</td>\n",
       "      <td>0.000052</td>\n",
       "      <td>0.000052</td>\n",
       "      <td>...</td>\n",
       "      <td>0.000052</td>\n",
       "      <td>0.014017</td>\n",
       "      <td>0.000052</td>\n",
       "      <td>0.007331</td>\n",
       "      <td>0.000052</td>\n",
       "      <td>0.006051</td>\n",
       "      <td>0.000052</td>\n",
       "      <td>0.000052</td>\n",
       "      <td>0.000052</td>\n",
       "      <td>0.000052</td>\n",
       "    </tr>\n",
       "  </tbody>\n",
       "</table>\n",
       "<p>9 rows × 116 columns</p>\n",
       "</div>"
      ],
      "text/plain": [
       "      agent   airline   airport    answer    anyone  anything  attendant  \\\n",
       "0  0.049559  0.000048  0.000048  0.000048  0.044562  0.041994   0.000048   \n",
       "1  0.000155  0.000053  0.000053  0.000067  0.000053  0.000053   0.000053   \n",
       "2  0.000044  0.000044  0.000044  0.000044  0.000044  0.000044   0.000044   \n",
       "3  0.000064  0.000064  0.000064  0.000064  0.000064  0.000064   0.048684   \n",
       "4  0.000065  0.000065  0.000065  0.000065  0.000065  0.000065   0.000065   \n",
       "5  0.000061  0.000061  0.000061  0.000061  0.000061  0.000061   0.000061   \n",
       "6  0.120163  0.000062  0.124545  0.000062  0.000062  0.000062   0.000062   \n",
       "7  0.000054  0.190325  0.000054  0.000054  0.000054  0.000055   0.000054   \n",
       "8  0.000052  0.000052  0.000052  0.035280  0.000052  0.000052   0.000052   \n",
       "\n",
       "        bag   baggage     board  ...   voucher      wait   weather   website  \\\n",
       "0  0.000048  0.000048  0.000048  ...  0.000048  0.011131  0.000048  0.000048   \n",
       "1  0.000053  0.062496  0.000053  ...  0.000053  0.030787  0.000053  0.000053   \n",
       "2  0.000044  0.000044  0.000044  ...  0.000044  0.000044  0.000044  0.000044   \n",
       "3  0.000064  0.000064  0.000064  ...  0.000064  0.039657  0.000064  0.000064   \n",
       "4  0.128053  0.000065  0.054415  ...  0.000065  0.000065  0.000065  0.025493   \n",
       "5  0.000061  0.000061  0.000061  ...  0.000061  0.000061  0.089184  0.000061   \n",
       "6  0.000062  0.028755  0.000062  ...  0.036184  0.000062  0.000062  0.000062   \n",
       "7  0.000054  0.000054  0.000055  ...  0.000054  0.000055  0.000054  0.000054   \n",
       "8  0.000052  0.000052  0.000052  ...  0.000052  0.014017  0.000052  0.007331   \n",
       "\n",
       "       week      wife      wifi      work      year  yesterday  \n",
       "0  0.000048  0.000048  0.000048  0.049393  0.000048   0.000048  \n",
       "1  0.000053  0.015448  0.024481  0.000053  0.000053   0.000053  \n",
       "2  0.000044  0.005460  0.000044  0.000044  0.000044   0.000044  \n",
       "3  0.000064  0.000064  0.000064  0.000064  0.000064   0.000064  \n",
       "4  0.000065  0.000065  0.000065  0.000065  0.047403   0.000065  \n",
       "5  0.000061  0.000591  0.000061  0.000061  0.000061   0.000061  \n",
       "6  0.000062  0.003630  0.006174  0.000062  0.000062   0.047299  \n",
       "7  0.066747  0.000054  0.000054  0.011683  0.000054   0.000054  \n",
       "8  0.000052  0.006051  0.000052  0.000052  0.000052   0.000052  \n",
       "\n",
       "[9 rows x 116 columns]"
      ]
     },
     "execution_count": 86,
     "metadata": {},
     "output_type": "execute_result"
    }
   ],
   "source": [
    "# View full Word Probabilities by Topic Matrix\n",
    "df_topic_keywords = pd.DataFrame(Word_Topics_Pro)\n",
    "df_topic_keywords.columns = ReducedTerm\n",
    "df_topic_keywords"
   ]
  }
 ],
 "metadata": {
  "colab": {
   "provenance": []
  },
  "kernelspec": {
   "display_name": "Python 3",
   "language": "python",
   "name": "python3"
  },
  "language_info": {
   "codemirror_mode": {
    "name": "ipython",
    "version": 3
   },
   "file_extension": ".py",
   "mimetype": "text/x-python",
   "name": "python",
   "nbconvert_exporter": "python",
   "pygments_lexer": "ipython3",
   "version": "3.8.8"
  }
 },
 "nbformat": 4,
 "nbformat_minor": 1
}
